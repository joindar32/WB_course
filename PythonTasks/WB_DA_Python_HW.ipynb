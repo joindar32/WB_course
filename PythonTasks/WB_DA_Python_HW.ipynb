{
  "cells": [
    {
      "cell_type": "markdown",
      "metadata": {
        "id": "y3M-YZnEb1lO"
      },
      "source": [
        "\n",
        "<h1>Задание 1</h1>\n",
        "\n",
        "У вас есть небольшой искусственный датасет: https://www.kaggle.com/datasets/iamsouravbanerjee/customer-shopping-trends-dataset/data   "
      ]
    },
    {
      "cell_type": "code",
      "source": [
        "import numpy as np\n",
        "import pandas as pd\n",
        "import matplotlib.pyplot as plt\n",
        "import seaborn as sns\n",
        "from scipy.stats import chi2_contingency\n",
        "from collections import Counter\n",
        "from scipy.stats import ttest_ind\n",
        "from scipy.stats import pearsonr\n"
      ],
      "metadata": {
        "id": "_syKgCLqcKdo"
      },
      "execution_count": 1,
      "outputs": []
    },
    {
      "cell_type": "markdown",
      "metadata": {
        "id": "JyLnm1MDb1lP"
      },
      "source": [
        "#Задание 1.1"
      ]
    },
    {
      "cell_type": "markdown",
      "metadata": {
        "id": "pBqe030jb1lQ"
      },
      "source": [
        "На основании этих данных необходимо составить максимальное(но не менее пяти) количество гипотез о корреляциях между отдельными столбцами и проверить их.\n",
        "\n",
        "При этом при составлении гипотез можно рассматривать не полный df, а именно выборки (например: \"женщины старше 40 лет покупают в основном осенью\")"
      ]
    },
    {
      "cell_type": "code",
      "source": [
        "data = pd.read_csv(\"shopping_trends_updated.csv\")\n",
        "df = data.copy()\n",
        "df.info()"
      ],
      "metadata": {
        "colab": {
          "base_uri": "https://localhost:8080/"
        },
        "id": "VEQfCxascE0H",
        "outputId": "4674306a-456b-4f95-c653-88f8736f5f33"
      },
      "execution_count": 2,
      "outputs": [
        {
          "output_type": "stream",
          "name": "stdout",
          "text": [
            "<class 'pandas.core.frame.DataFrame'>\n",
            "RangeIndex: 3900 entries, 0 to 3899\n",
            "Data columns (total 18 columns):\n",
            " #   Column                  Non-Null Count  Dtype  \n",
            "---  ------                  --------------  -----  \n",
            " 0   Customer ID             3900 non-null   int64  \n",
            " 1   Age                     3900 non-null   int64  \n",
            " 2   Gender                  3900 non-null   object \n",
            " 3   Item Purchased          3900 non-null   object \n",
            " 4   Category                3900 non-null   object \n",
            " 5   Purchase Amount (USD)   3900 non-null   int64  \n",
            " 6   Location                3900 non-null   object \n",
            " 7   Size                    3900 non-null   object \n",
            " 8   Color                   3900 non-null   object \n",
            " 9   Season                  3900 non-null   object \n",
            " 10  Review Rating           3900 non-null   float64\n",
            " 11  Subscription Status     3900 non-null   object \n",
            " 12  Shipping Type           3900 non-null   object \n",
            " 13  Discount Applied        3900 non-null   object \n",
            " 14  Promo Code Used         3900 non-null   object \n",
            " 15  Previous Purchases      3900 non-null   int64  \n",
            " 16  Payment Method          3900 non-null   object \n",
            " 17  Frequency of Purchases  3900 non-null   object \n",
            "dtypes: float64(1), int64(4), object(13)\n",
            "memory usage: 548.6+ KB\n"
          ]
        }
      ]
    },
    {
      "cell_type": "code",
      "source": [
        "df.head(10)"
      ],
      "metadata": {
        "colab": {
          "base_uri": "https://localhost:8080/",
          "height": 502
        },
        "id": "FAdyKA_-cfYa",
        "outputId": "49949cfb-7868-4ac1-a257-b05c452fd759"
      },
      "execution_count": 3,
      "outputs": [
        {
          "output_type": "execute_result",
          "data": {
            "text/plain": [
              "   Customer ID  Age Gender Item Purchased     Category  Purchase Amount (USD)  \\\n",
              "0            1   55   Male         Blouse     Clothing                     53   \n",
              "1            2   19   Male        Sweater     Clothing                     64   \n",
              "2            3   50   Male          Jeans     Clothing                     73   \n",
              "3            4   21   Male        Sandals     Footwear                     90   \n",
              "4            5   45   Male         Blouse     Clothing                     49   \n",
              "5            6   46   Male       Sneakers     Footwear                     20   \n",
              "6            7   63   Male          Shirt     Clothing                     85   \n",
              "7            8   27   Male         Shorts     Clothing                     34   \n",
              "8            9   26   Male           Coat    Outerwear                     97   \n",
              "9           10   57   Male        Handbag  Accessories                     31   \n",
              "\n",
              "        Location Size      Color  Season  Review Rating Subscription Status  \\\n",
              "0       Kentucky    L       Gray  Winter            3.1                 Yes   \n",
              "1          Maine    L     Maroon  Winter            3.1                 Yes   \n",
              "2  Massachusetts    S     Maroon  Spring            3.1                 Yes   \n",
              "3   Rhode Island    M     Maroon  Spring            3.5                 Yes   \n",
              "4         Oregon    M  Turquoise  Spring            2.7                 Yes   \n",
              "5        Wyoming    M      White  Summer            2.9                 Yes   \n",
              "6        Montana    M       Gray    Fall            3.2                 Yes   \n",
              "7      Louisiana    L   Charcoal  Winter            3.2                 Yes   \n",
              "8  West Virginia    L     Silver  Summer            2.6                 Yes   \n",
              "9       Missouri    M       Pink  Spring            4.8                 Yes   \n",
              "\n",
              "    Shipping Type Discount Applied Promo Code Used  Previous Purchases  \\\n",
              "0         Express              Yes             Yes                  14   \n",
              "1         Express              Yes             Yes                   2   \n",
              "2   Free Shipping              Yes             Yes                  23   \n",
              "3    Next Day Air              Yes             Yes                  49   \n",
              "4   Free Shipping              Yes             Yes                  31   \n",
              "5        Standard              Yes             Yes                  14   \n",
              "6   Free Shipping              Yes             Yes                  49   \n",
              "7   Free Shipping              Yes             Yes                  19   \n",
              "8         Express              Yes             Yes                   8   \n",
              "9  2-Day Shipping              Yes             Yes                   4   \n",
              "\n",
              "  Payment Method Frequency of Purchases  \n",
              "0          Venmo            Fortnightly  \n",
              "1           Cash            Fortnightly  \n",
              "2    Credit Card                 Weekly  \n",
              "3         PayPal                 Weekly  \n",
              "4         PayPal               Annually  \n",
              "5          Venmo                 Weekly  \n",
              "6           Cash              Quarterly  \n",
              "7    Credit Card                 Weekly  \n",
              "8          Venmo               Annually  \n",
              "9           Cash              Quarterly  "
            ],
            "text/html": [
              "\n",
              "  <div id=\"df-93cd1520-b495-4422-b4df-0b2644afb3af\" class=\"colab-df-container\">\n",
              "    <div>\n",
              "<style scoped>\n",
              "    .dataframe tbody tr th:only-of-type {\n",
              "        vertical-align: middle;\n",
              "    }\n",
              "\n",
              "    .dataframe tbody tr th {\n",
              "        vertical-align: top;\n",
              "    }\n",
              "\n",
              "    .dataframe thead th {\n",
              "        text-align: right;\n",
              "    }\n",
              "</style>\n",
              "<table border=\"1\" class=\"dataframe\">\n",
              "  <thead>\n",
              "    <tr style=\"text-align: right;\">\n",
              "      <th></th>\n",
              "      <th>Customer ID</th>\n",
              "      <th>Age</th>\n",
              "      <th>Gender</th>\n",
              "      <th>Item Purchased</th>\n",
              "      <th>Category</th>\n",
              "      <th>Purchase Amount (USD)</th>\n",
              "      <th>Location</th>\n",
              "      <th>Size</th>\n",
              "      <th>Color</th>\n",
              "      <th>Season</th>\n",
              "      <th>Review Rating</th>\n",
              "      <th>Subscription Status</th>\n",
              "      <th>Shipping Type</th>\n",
              "      <th>Discount Applied</th>\n",
              "      <th>Promo Code Used</th>\n",
              "      <th>Previous Purchases</th>\n",
              "      <th>Payment Method</th>\n",
              "      <th>Frequency of Purchases</th>\n",
              "    </tr>\n",
              "  </thead>\n",
              "  <tbody>\n",
              "    <tr>\n",
              "      <th>0</th>\n",
              "      <td>1</td>\n",
              "      <td>55</td>\n",
              "      <td>Male</td>\n",
              "      <td>Blouse</td>\n",
              "      <td>Clothing</td>\n",
              "      <td>53</td>\n",
              "      <td>Kentucky</td>\n",
              "      <td>L</td>\n",
              "      <td>Gray</td>\n",
              "      <td>Winter</td>\n",
              "      <td>3.1</td>\n",
              "      <td>Yes</td>\n",
              "      <td>Express</td>\n",
              "      <td>Yes</td>\n",
              "      <td>Yes</td>\n",
              "      <td>14</td>\n",
              "      <td>Venmo</td>\n",
              "      <td>Fortnightly</td>\n",
              "    </tr>\n",
              "    <tr>\n",
              "      <th>1</th>\n",
              "      <td>2</td>\n",
              "      <td>19</td>\n",
              "      <td>Male</td>\n",
              "      <td>Sweater</td>\n",
              "      <td>Clothing</td>\n",
              "      <td>64</td>\n",
              "      <td>Maine</td>\n",
              "      <td>L</td>\n",
              "      <td>Maroon</td>\n",
              "      <td>Winter</td>\n",
              "      <td>3.1</td>\n",
              "      <td>Yes</td>\n",
              "      <td>Express</td>\n",
              "      <td>Yes</td>\n",
              "      <td>Yes</td>\n",
              "      <td>2</td>\n",
              "      <td>Cash</td>\n",
              "      <td>Fortnightly</td>\n",
              "    </tr>\n",
              "    <tr>\n",
              "      <th>2</th>\n",
              "      <td>3</td>\n",
              "      <td>50</td>\n",
              "      <td>Male</td>\n",
              "      <td>Jeans</td>\n",
              "      <td>Clothing</td>\n",
              "      <td>73</td>\n",
              "      <td>Massachusetts</td>\n",
              "      <td>S</td>\n",
              "      <td>Maroon</td>\n",
              "      <td>Spring</td>\n",
              "      <td>3.1</td>\n",
              "      <td>Yes</td>\n",
              "      <td>Free Shipping</td>\n",
              "      <td>Yes</td>\n",
              "      <td>Yes</td>\n",
              "      <td>23</td>\n",
              "      <td>Credit Card</td>\n",
              "      <td>Weekly</td>\n",
              "    </tr>\n",
              "    <tr>\n",
              "      <th>3</th>\n",
              "      <td>4</td>\n",
              "      <td>21</td>\n",
              "      <td>Male</td>\n",
              "      <td>Sandals</td>\n",
              "      <td>Footwear</td>\n",
              "      <td>90</td>\n",
              "      <td>Rhode Island</td>\n",
              "      <td>M</td>\n",
              "      <td>Maroon</td>\n",
              "      <td>Spring</td>\n",
              "      <td>3.5</td>\n",
              "      <td>Yes</td>\n",
              "      <td>Next Day Air</td>\n",
              "      <td>Yes</td>\n",
              "      <td>Yes</td>\n",
              "      <td>49</td>\n",
              "      <td>PayPal</td>\n",
              "      <td>Weekly</td>\n",
              "    </tr>\n",
              "    <tr>\n",
              "      <th>4</th>\n",
              "      <td>5</td>\n",
              "      <td>45</td>\n",
              "      <td>Male</td>\n",
              "      <td>Blouse</td>\n",
              "      <td>Clothing</td>\n",
              "      <td>49</td>\n",
              "      <td>Oregon</td>\n",
              "      <td>M</td>\n",
              "      <td>Turquoise</td>\n",
              "      <td>Spring</td>\n",
              "      <td>2.7</td>\n",
              "      <td>Yes</td>\n",
              "      <td>Free Shipping</td>\n",
              "      <td>Yes</td>\n",
              "      <td>Yes</td>\n",
              "      <td>31</td>\n",
              "      <td>PayPal</td>\n",
              "      <td>Annually</td>\n",
              "    </tr>\n",
              "    <tr>\n",
              "      <th>5</th>\n",
              "      <td>6</td>\n",
              "      <td>46</td>\n",
              "      <td>Male</td>\n",
              "      <td>Sneakers</td>\n",
              "      <td>Footwear</td>\n",
              "      <td>20</td>\n",
              "      <td>Wyoming</td>\n",
              "      <td>M</td>\n",
              "      <td>White</td>\n",
              "      <td>Summer</td>\n",
              "      <td>2.9</td>\n",
              "      <td>Yes</td>\n",
              "      <td>Standard</td>\n",
              "      <td>Yes</td>\n",
              "      <td>Yes</td>\n",
              "      <td>14</td>\n",
              "      <td>Venmo</td>\n",
              "      <td>Weekly</td>\n",
              "    </tr>\n",
              "    <tr>\n",
              "      <th>6</th>\n",
              "      <td>7</td>\n",
              "      <td>63</td>\n",
              "      <td>Male</td>\n",
              "      <td>Shirt</td>\n",
              "      <td>Clothing</td>\n",
              "      <td>85</td>\n",
              "      <td>Montana</td>\n",
              "      <td>M</td>\n",
              "      <td>Gray</td>\n",
              "      <td>Fall</td>\n",
              "      <td>3.2</td>\n",
              "      <td>Yes</td>\n",
              "      <td>Free Shipping</td>\n",
              "      <td>Yes</td>\n",
              "      <td>Yes</td>\n",
              "      <td>49</td>\n",
              "      <td>Cash</td>\n",
              "      <td>Quarterly</td>\n",
              "    </tr>\n",
              "    <tr>\n",
              "      <th>7</th>\n",
              "      <td>8</td>\n",
              "      <td>27</td>\n",
              "      <td>Male</td>\n",
              "      <td>Shorts</td>\n",
              "      <td>Clothing</td>\n",
              "      <td>34</td>\n",
              "      <td>Louisiana</td>\n",
              "      <td>L</td>\n",
              "      <td>Charcoal</td>\n",
              "      <td>Winter</td>\n",
              "      <td>3.2</td>\n",
              "      <td>Yes</td>\n",
              "      <td>Free Shipping</td>\n",
              "      <td>Yes</td>\n",
              "      <td>Yes</td>\n",
              "      <td>19</td>\n",
              "      <td>Credit Card</td>\n",
              "      <td>Weekly</td>\n",
              "    </tr>\n",
              "    <tr>\n",
              "      <th>8</th>\n",
              "      <td>9</td>\n",
              "      <td>26</td>\n",
              "      <td>Male</td>\n",
              "      <td>Coat</td>\n",
              "      <td>Outerwear</td>\n",
              "      <td>97</td>\n",
              "      <td>West Virginia</td>\n",
              "      <td>L</td>\n",
              "      <td>Silver</td>\n",
              "      <td>Summer</td>\n",
              "      <td>2.6</td>\n",
              "      <td>Yes</td>\n",
              "      <td>Express</td>\n",
              "      <td>Yes</td>\n",
              "      <td>Yes</td>\n",
              "      <td>8</td>\n",
              "      <td>Venmo</td>\n",
              "      <td>Annually</td>\n",
              "    </tr>\n",
              "    <tr>\n",
              "      <th>9</th>\n",
              "      <td>10</td>\n",
              "      <td>57</td>\n",
              "      <td>Male</td>\n",
              "      <td>Handbag</td>\n",
              "      <td>Accessories</td>\n",
              "      <td>31</td>\n",
              "      <td>Missouri</td>\n",
              "      <td>M</td>\n",
              "      <td>Pink</td>\n",
              "      <td>Spring</td>\n",
              "      <td>4.8</td>\n",
              "      <td>Yes</td>\n",
              "      <td>2-Day Shipping</td>\n",
              "      <td>Yes</td>\n",
              "      <td>Yes</td>\n",
              "      <td>4</td>\n",
              "      <td>Cash</td>\n",
              "      <td>Quarterly</td>\n",
              "    </tr>\n",
              "  </tbody>\n",
              "</table>\n",
              "</div>\n",
              "    <div class=\"colab-df-buttons\">\n",
              "\n",
              "  <div class=\"colab-df-container\">\n",
              "    <button class=\"colab-df-convert\" onclick=\"convertToInteractive('df-93cd1520-b495-4422-b4df-0b2644afb3af')\"\n",
              "            title=\"Convert this dataframe to an interactive table.\"\n",
              "            style=\"display:none;\">\n",
              "\n",
              "  <svg xmlns=\"http://www.w3.org/2000/svg\" height=\"24px\" viewBox=\"0 -960 960 960\">\n",
              "    <path d=\"M120-120v-720h720v720H120Zm60-500h600v-160H180v160Zm220 220h160v-160H400v160Zm0 220h160v-160H400v160ZM180-400h160v-160H180v160Zm440 0h160v-160H620v160ZM180-180h160v-160H180v160Zm440 0h160v-160H620v160Z\"/>\n",
              "  </svg>\n",
              "    </button>\n",
              "\n",
              "  <style>\n",
              "    .colab-df-container {\n",
              "      display:flex;\n",
              "      gap: 12px;\n",
              "    }\n",
              "\n",
              "    .colab-df-convert {\n",
              "      background-color: #E8F0FE;\n",
              "      border: none;\n",
              "      border-radius: 50%;\n",
              "      cursor: pointer;\n",
              "      display: none;\n",
              "      fill: #1967D2;\n",
              "      height: 32px;\n",
              "      padding: 0 0 0 0;\n",
              "      width: 32px;\n",
              "    }\n",
              "\n",
              "    .colab-df-convert:hover {\n",
              "      background-color: #E2EBFA;\n",
              "      box-shadow: 0px 1px 2px rgba(60, 64, 67, 0.3), 0px 1px 3px 1px rgba(60, 64, 67, 0.15);\n",
              "      fill: #174EA6;\n",
              "    }\n",
              "\n",
              "    .colab-df-buttons div {\n",
              "      margin-bottom: 4px;\n",
              "    }\n",
              "\n",
              "    [theme=dark] .colab-df-convert {\n",
              "      background-color: #3B4455;\n",
              "      fill: #D2E3FC;\n",
              "    }\n",
              "\n",
              "    [theme=dark] .colab-df-convert:hover {\n",
              "      background-color: #434B5C;\n",
              "      box-shadow: 0px 1px 3px 1px rgba(0, 0, 0, 0.15);\n",
              "      filter: drop-shadow(0px 1px 2px rgba(0, 0, 0, 0.3));\n",
              "      fill: #FFFFFF;\n",
              "    }\n",
              "  </style>\n",
              "\n",
              "    <script>\n",
              "      const buttonEl =\n",
              "        document.querySelector('#df-93cd1520-b495-4422-b4df-0b2644afb3af button.colab-df-convert');\n",
              "      buttonEl.style.display =\n",
              "        google.colab.kernel.accessAllowed ? 'block' : 'none';\n",
              "\n",
              "      async function convertToInteractive(key) {\n",
              "        const element = document.querySelector('#df-93cd1520-b495-4422-b4df-0b2644afb3af');\n",
              "        const dataTable =\n",
              "          await google.colab.kernel.invokeFunction('convertToInteractive',\n",
              "                                                    [key], {});\n",
              "        if (!dataTable) return;\n",
              "\n",
              "        const docLinkHtml = 'Like what you see? Visit the ' +\n",
              "          '<a target=\"_blank\" href=https://colab.research.google.com/notebooks/data_table.ipynb>data table notebook</a>'\n",
              "          + ' to learn more about interactive tables.';\n",
              "        element.innerHTML = '';\n",
              "        dataTable['output_type'] = 'display_data';\n",
              "        await google.colab.output.renderOutput(dataTable, element);\n",
              "        const docLink = document.createElement('div');\n",
              "        docLink.innerHTML = docLinkHtml;\n",
              "        element.appendChild(docLink);\n",
              "      }\n",
              "    </script>\n",
              "  </div>\n",
              "\n",
              "\n",
              "<div id=\"df-1e59d9f9-4863-410c-b697-6e5aad4744e6\">\n",
              "  <button class=\"colab-df-quickchart\" onclick=\"quickchart('df-1e59d9f9-4863-410c-b697-6e5aad4744e6')\"\n",
              "            title=\"Suggest charts\"\n",
              "            style=\"display:none;\">\n",
              "\n",
              "<svg xmlns=\"http://www.w3.org/2000/svg\" height=\"24px\"viewBox=\"0 0 24 24\"\n",
              "     width=\"24px\">\n",
              "    <g>\n",
              "        <path d=\"M19 3H5c-1.1 0-2 .9-2 2v14c0 1.1.9 2 2 2h14c1.1 0 2-.9 2-2V5c0-1.1-.9-2-2-2zM9 17H7v-7h2v7zm4 0h-2V7h2v10zm4 0h-2v-4h2v4z\"/>\n",
              "    </g>\n",
              "</svg>\n",
              "  </button>\n",
              "\n",
              "<style>\n",
              "  .colab-df-quickchart {\n",
              "      --bg-color: #E8F0FE;\n",
              "      --fill-color: #1967D2;\n",
              "      --hover-bg-color: #E2EBFA;\n",
              "      --hover-fill-color: #174EA6;\n",
              "      --disabled-fill-color: #AAA;\n",
              "      --disabled-bg-color: #DDD;\n",
              "  }\n",
              "\n",
              "  [theme=dark] .colab-df-quickchart {\n",
              "      --bg-color: #3B4455;\n",
              "      --fill-color: #D2E3FC;\n",
              "      --hover-bg-color: #434B5C;\n",
              "      --hover-fill-color: #FFFFFF;\n",
              "      --disabled-bg-color: #3B4455;\n",
              "      --disabled-fill-color: #666;\n",
              "  }\n",
              "\n",
              "  .colab-df-quickchart {\n",
              "    background-color: var(--bg-color);\n",
              "    border: none;\n",
              "    border-radius: 50%;\n",
              "    cursor: pointer;\n",
              "    display: none;\n",
              "    fill: var(--fill-color);\n",
              "    height: 32px;\n",
              "    padding: 0;\n",
              "    width: 32px;\n",
              "  }\n",
              "\n",
              "  .colab-df-quickchart:hover {\n",
              "    background-color: var(--hover-bg-color);\n",
              "    box-shadow: 0 1px 2px rgba(60, 64, 67, 0.3), 0 1px 3px 1px rgba(60, 64, 67, 0.15);\n",
              "    fill: var(--button-hover-fill-color);\n",
              "  }\n",
              "\n",
              "  .colab-df-quickchart-complete:disabled,\n",
              "  .colab-df-quickchart-complete:disabled:hover {\n",
              "    background-color: var(--disabled-bg-color);\n",
              "    fill: var(--disabled-fill-color);\n",
              "    box-shadow: none;\n",
              "  }\n",
              "\n",
              "  .colab-df-spinner {\n",
              "    border: 2px solid var(--fill-color);\n",
              "    border-color: transparent;\n",
              "    border-bottom-color: var(--fill-color);\n",
              "    animation:\n",
              "      spin 1s steps(1) infinite;\n",
              "  }\n",
              "\n",
              "  @keyframes spin {\n",
              "    0% {\n",
              "      border-color: transparent;\n",
              "      border-bottom-color: var(--fill-color);\n",
              "      border-left-color: var(--fill-color);\n",
              "    }\n",
              "    20% {\n",
              "      border-color: transparent;\n",
              "      border-left-color: var(--fill-color);\n",
              "      border-top-color: var(--fill-color);\n",
              "    }\n",
              "    30% {\n",
              "      border-color: transparent;\n",
              "      border-left-color: var(--fill-color);\n",
              "      border-top-color: var(--fill-color);\n",
              "      border-right-color: var(--fill-color);\n",
              "    }\n",
              "    40% {\n",
              "      border-color: transparent;\n",
              "      border-right-color: var(--fill-color);\n",
              "      border-top-color: var(--fill-color);\n",
              "    }\n",
              "    60% {\n",
              "      border-color: transparent;\n",
              "      border-right-color: var(--fill-color);\n",
              "    }\n",
              "    80% {\n",
              "      border-color: transparent;\n",
              "      border-right-color: var(--fill-color);\n",
              "      border-bottom-color: var(--fill-color);\n",
              "    }\n",
              "    90% {\n",
              "      border-color: transparent;\n",
              "      border-bottom-color: var(--fill-color);\n",
              "    }\n",
              "  }\n",
              "</style>\n",
              "\n",
              "  <script>\n",
              "    async function quickchart(key) {\n",
              "      const quickchartButtonEl =\n",
              "        document.querySelector('#' + key + ' button');\n",
              "      quickchartButtonEl.disabled = true;  // To prevent multiple clicks.\n",
              "      quickchartButtonEl.classList.add('colab-df-spinner');\n",
              "      try {\n",
              "        const charts = await google.colab.kernel.invokeFunction(\n",
              "            'suggestCharts', [key], {});\n",
              "      } catch (error) {\n",
              "        console.error('Error during call to suggestCharts:', error);\n",
              "      }\n",
              "      quickchartButtonEl.classList.remove('colab-df-spinner');\n",
              "      quickchartButtonEl.classList.add('colab-df-quickchart-complete');\n",
              "    }\n",
              "    (() => {\n",
              "      let quickchartButtonEl =\n",
              "        document.querySelector('#df-1e59d9f9-4863-410c-b697-6e5aad4744e6 button');\n",
              "      quickchartButtonEl.style.display =\n",
              "        google.colab.kernel.accessAllowed ? 'block' : 'none';\n",
              "    })();\n",
              "  </script>\n",
              "</div>\n",
              "    </div>\n",
              "  </div>\n"
            ],
            "application/vnd.google.colaboratory.intrinsic+json": {
              "type": "dataframe",
              "variable_name": "df",
              "summary": "{\n  \"name\": \"df\",\n  \"rows\": 3900,\n  \"fields\": [\n    {\n      \"column\": \"Customer ID\",\n      \"properties\": {\n        \"dtype\": \"number\",\n        \"std\": 1125,\n        \"min\": 1,\n        \"max\": 3900,\n        \"num_unique_values\": 3900,\n        \"samples\": [\n          840,\n          1718,\n          322\n        ],\n        \"semantic_type\": \"\",\n        \"description\": \"\"\n      }\n    },\n    {\n      \"column\": \"Age\",\n      \"properties\": {\n        \"dtype\": \"number\",\n        \"std\": 15,\n        \"min\": 18,\n        \"max\": 70,\n        \"num_unique_values\": 53,\n        \"samples\": [\n          56,\n          24,\n          51\n        ],\n        \"semantic_type\": \"\",\n        \"description\": \"\"\n      }\n    },\n    {\n      \"column\": \"Gender\",\n      \"properties\": {\n        \"dtype\": \"category\",\n        \"num_unique_values\": 2,\n        \"samples\": [\n          \"Female\",\n          \"Male\"\n        ],\n        \"semantic_type\": \"\",\n        \"description\": \"\"\n      }\n    },\n    {\n      \"column\": \"Item Purchased\",\n      \"properties\": {\n        \"dtype\": \"category\",\n        \"num_unique_values\": 25,\n        \"samples\": [\n          \"Handbag\",\n          \"Jewelry\"\n        ],\n        \"semantic_type\": \"\",\n        \"description\": \"\"\n      }\n    },\n    {\n      \"column\": \"Category\",\n      \"properties\": {\n        \"dtype\": \"category\",\n        \"num_unique_values\": 4,\n        \"samples\": [\n          \"Footwear\",\n          \"Accessories\"\n        ],\n        \"semantic_type\": \"\",\n        \"description\": \"\"\n      }\n    },\n    {\n      \"column\": \"Purchase Amount (USD)\",\n      \"properties\": {\n        \"dtype\": \"number\",\n        \"std\": 23,\n        \"min\": 20,\n        \"max\": 100,\n        \"num_unique_values\": 81,\n        \"samples\": [\n          60,\n          53\n        ],\n        \"semantic_type\": \"\",\n        \"description\": \"\"\n      }\n    },\n    {\n      \"column\": \"Location\",\n      \"properties\": {\n        \"dtype\": \"category\",\n        \"num_unique_values\": 50,\n        \"samples\": [\n          \"New Hampshire\",\n          \"Connecticut\"\n        ],\n        \"semantic_type\": \"\",\n        \"description\": \"\"\n      }\n    },\n    {\n      \"column\": \"Size\",\n      \"properties\": {\n        \"dtype\": \"category\",\n        \"num_unique_values\": 4,\n        \"samples\": [\n          \"S\",\n          \"XL\"\n        ],\n        \"semantic_type\": \"\",\n        \"description\": \"\"\n      }\n    },\n    {\n      \"column\": \"Color\",\n      \"properties\": {\n        \"dtype\": \"category\",\n        \"num_unique_values\": 25,\n        \"samples\": [\n          \"Olive\",\n          \"Red\"\n        ],\n        \"semantic_type\": \"\",\n        \"description\": \"\"\n      }\n    },\n    {\n      \"column\": \"Season\",\n      \"properties\": {\n        \"dtype\": \"category\",\n        \"num_unique_values\": 4,\n        \"samples\": [\n          \"Spring\",\n          \"Fall\"\n        ],\n        \"semantic_type\": \"\",\n        \"description\": \"\"\n      }\n    },\n    {\n      \"column\": \"Review Rating\",\n      \"properties\": {\n        \"dtype\": \"number\",\n        \"std\": 0.7162228139312449,\n        \"min\": 2.5,\n        \"max\": 5.0,\n        \"num_unique_values\": 26,\n        \"samples\": [\n          4.9,\n          5.0\n        ],\n        \"semantic_type\": \"\",\n        \"description\": \"\"\n      }\n    },\n    {\n      \"column\": \"Subscription Status\",\n      \"properties\": {\n        \"dtype\": \"category\",\n        \"num_unique_values\": 2,\n        \"samples\": [\n          \"No\",\n          \"Yes\"\n        ],\n        \"semantic_type\": \"\",\n        \"description\": \"\"\n      }\n    },\n    {\n      \"column\": \"Shipping Type\",\n      \"properties\": {\n        \"dtype\": \"category\",\n        \"num_unique_values\": 6,\n        \"samples\": [\n          \"Express\",\n          \"Free Shipping\"\n        ],\n        \"semantic_type\": \"\",\n        \"description\": \"\"\n      }\n    },\n    {\n      \"column\": \"Discount Applied\",\n      \"properties\": {\n        \"dtype\": \"category\",\n        \"num_unique_values\": 2,\n        \"samples\": [\n          \"No\",\n          \"Yes\"\n        ],\n        \"semantic_type\": \"\",\n        \"description\": \"\"\n      }\n    },\n    {\n      \"column\": \"Promo Code Used\",\n      \"properties\": {\n        \"dtype\": \"category\",\n        \"num_unique_values\": 2,\n        \"samples\": [\n          \"No\",\n          \"Yes\"\n        ],\n        \"semantic_type\": \"\",\n        \"description\": \"\"\n      }\n    },\n    {\n      \"column\": \"Previous Purchases\",\n      \"properties\": {\n        \"dtype\": \"number\",\n        \"std\": 14,\n        \"min\": 1,\n        \"max\": 50,\n        \"num_unique_values\": 50,\n        \"samples\": [\n          36,\n          47\n        ],\n        \"semantic_type\": \"\",\n        \"description\": \"\"\n      }\n    },\n    {\n      \"column\": \"Payment Method\",\n      \"properties\": {\n        \"dtype\": \"category\",\n        \"num_unique_values\": 6,\n        \"samples\": [\n          \"Venmo\",\n          \"Cash\"\n        ],\n        \"semantic_type\": \"\",\n        \"description\": \"\"\n      }\n    },\n    {\n      \"column\": \"Frequency of Purchases\",\n      \"properties\": {\n        \"dtype\": \"category\",\n        \"num_unique_values\": 7,\n        \"samples\": [\n          \"Fortnightly\",\n          \"Weekly\"\n        ],\n        \"semantic_type\": \"\",\n        \"description\": \"\"\n      }\n    }\n  ]\n}"
            }
          },
          "metadata": {},
          "execution_count": 3
        }
      ]
    },
    {
      "cell_type": "code",
      "source": [
        "df.describe().applymap(lambda x:f'{x:.2f}')[['Age','Purchase Amount (USD)', 'Review Rating', 'Previous Purchases']]"
      ],
      "metadata": {
        "colab": {
          "base_uri": "https://localhost:8080/",
          "height": 335
        },
        "id": "4DNebdAi8XtG",
        "outputId": "188bdf54-742e-4dbf-8454-8ee2680864c5"
      },
      "execution_count": 4,
      "outputs": [
        {
          "output_type": "stream",
          "name": "stderr",
          "text": [
            "<ipython-input-4-9deda90d9bec>:1: FutureWarning: DataFrame.applymap has been deprecated. Use DataFrame.map instead.\n",
            "  df.describe().applymap(lambda x:f'{x:.2f}')[['Age','Purchase Amount (USD)', 'Review Rating', 'Previous Purchases']]\n"
          ]
        },
        {
          "output_type": "execute_result",
          "data": {
            "text/plain": [
              "           Age Purchase Amount (USD) Review Rating Previous Purchases\n",
              "count  3900.00               3900.00       3900.00            3900.00\n",
              "mean     44.07                 59.76          3.75              25.35\n",
              "std      15.21                 23.69          0.72              14.45\n",
              "min      18.00                 20.00          2.50               1.00\n",
              "25%      31.00                 39.00          3.10              13.00\n",
              "50%      44.00                 60.00          3.70              25.00\n",
              "75%      57.00                 81.00          4.40              38.00\n",
              "max      70.00                100.00          5.00              50.00"
            ],
            "text/html": [
              "\n",
              "  <div id=\"df-46b2a81c-543b-47fd-a007-df95918131b9\" class=\"colab-df-container\">\n",
              "    <div>\n",
              "<style scoped>\n",
              "    .dataframe tbody tr th:only-of-type {\n",
              "        vertical-align: middle;\n",
              "    }\n",
              "\n",
              "    .dataframe tbody tr th {\n",
              "        vertical-align: top;\n",
              "    }\n",
              "\n",
              "    .dataframe thead th {\n",
              "        text-align: right;\n",
              "    }\n",
              "</style>\n",
              "<table border=\"1\" class=\"dataframe\">\n",
              "  <thead>\n",
              "    <tr style=\"text-align: right;\">\n",
              "      <th></th>\n",
              "      <th>Age</th>\n",
              "      <th>Purchase Amount (USD)</th>\n",
              "      <th>Review Rating</th>\n",
              "      <th>Previous Purchases</th>\n",
              "    </tr>\n",
              "  </thead>\n",
              "  <tbody>\n",
              "    <tr>\n",
              "      <th>count</th>\n",
              "      <td>3900.00</td>\n",
              "      <td>3900.00</td>\n",
              "      <td>3900.00</td>\n",
              "      <td>3900.00</td>\n",
              "    </tr>\n",
              "    <tr>\n",
              "      <th>mean</th>\n",
              "      <td>44.07</td>\n",
              "      <td>59.76</td>\n",
              "      <td>3.75</td>\n",
              "      <td>25.35</td>\n",
              "    </tr>\n",
              "    <tr>\n",
              "      <th>std</th>\n",
              "      <td>15.21</td>\n",
              "      <td>23.69</td>\n",
              "      <td>0.72</td>\n",
              "      <td>14.45</td>\n",
              "    </tr>\n",
              "    <tr>\n",
              "      <th>min</th>\n",
              "      <td>18.00</td>\n",
              "      <td>20.00</td>\n",
              "      <td>2.50</td>\n",
              "      <td>1.00</td>\n",
              "    </tr>\n",
              "    <tr>\n",
              "      <th>25%</th>\n",
              "      <td>31.00</td>\n",
              "      <td>39.00</td>\n",
              "      <td>3.10</td>\n",
              "      <td>13.00</td>\n",
              "    </tr>\n",
              "    <tr>\n",
              "      <th>50%</th>\n",
              "      <td>44.00</td>\n",
              "      <td>60.00</td>\n",
              "      <td>3.70</td>\n",
              "      <td>25.00</td>\n",
              "    </tr>\n",
              "    <tr>\n",
              "      <th>75%</th>\n",
              "      <td>57.00</td>\n",
              "      <td>81.00</td>\n",
              "      <td>4.40</td>\n",
              "      <td>38.00</td>\n",
              "    </tr>\n",
              "    <tr>\n",
              "      <th>max</th>\n",
              "      <td>70.00</td>\n",
              "      <td>100.00</td>\n",
              "      <td>5.00</td>\n",
              "      <td>50.00</td>\n",
              "    </tr>\n",
              "  </tbody>\n",
              "</table>\n",
              "</div>\n",
              "    <div class=\"colab-df-buttons\">\n",
              "\n",
              "  <div class=\"colab-df-container\">\n",
              "    <button class=\"colab-df-convert\" onclick=\"convertToInteractive('df-46b2a81c-543b-47fd-a007-df95918131b9')\"\n",
              "            title=\"Convert this dataframe to an interactive table.\"\n",
              "            style=\"display:none;\">\n",
              "\n",
              "  <svg xmlns=\"http://www.w3.org/2000/svg\" height=\"24px\" viewBox=\"0 -960 960 960\">\n",
              "    <path d=\"M120-120v-720h720v720H120Zm60-500h600v-160H180v160Zm220 220h160v-160H400v160Zm0 220h160v-160H400v160ZM180-400h160v-160H180v160Zm440 0h160v-160H620v160ZM180-180h160v-160H180v160Zm440 0h160v-160H620v160Z\"/>\n",
              "  </svg>\n",
              "    </button>\n",
              "\n",
              "  <style>\n",
              "    .colab-df-container {\n",
              "      display:flex;\n",
              "      gap: 12px;\n",
              "    }\n",
              "\n",
              "    .colab-df-convert {\n",
              "      background-color: #E8F0FE;\n",
              "      border: none;\n",
              "      border-radius: 50%;\n",
              "      cursor: pointer;\n",
              "      display: none;\n",
              "      fill: #1967D2;\n",
              "      height: 32px;\n",
              "      padding: 0 0 0 0;\n",
              "      width: 32px;\n",
              "    }\n",
              "\n",
              "    .colab-df-convert:hover {\n",
              "      background-color: #E2EBFA;\n",
              "      box-shadow: 0px 1px 2px rgba(60, 64, 67, 0.3), 0px 1px 3px 1px rgba(60, 64, 67, 0.15);\n",
              "      fill: #174EA6;\n",
              "    }\n",
              "\n",
              "    .colab-df-buttons div {\n",
              "      margin-bottom: 4px;\n",
              "    }\n",
              "\n",
              "    [theme=dark] .colab-df-convert {\n",
              "      background-color: #3B4455;\n",
              "      fill: #D2E3FC;\n",
              "    }\n",
              "\n",
              "    [theme=dark] .colab-df-convert:hover {\n",
              "      background-color: #434B5C;\n",
              "      box-shadow: 0px 1px 3px 1px rgba(0, 0, 0, 0.15);\n",
              "      filter: drop-shadow(0px 1px 2px rgba(0, 0, 0, 0.3));\n",
              "      fill: #FFFFFF;\n",
              "    }\n",
              "  </style>\n",
              "\n",
              "    <script>\n",
              "      const buttonEl =\n",
              "        document.querySelector('#df-46b2a81c-543b-47fd-a007-df95918131b9 button.colab-df-convert');\n",
              "      buttonEl.style.display =\n",
              "        google.colab.kernel.accessAllowed ? 'block' : 'none';\n",
              "\n",
              "      async function convertToInteractive(key) {\n",
              "        const element = document.querySelector('#df-46b2a81c-543b-47fd-a007-df95918131b9');\n",
              "        const dataTable =\n",
              "          await google.colab.kernel.invokeFunction('convertToInteractive',\n",
              "                                                    [key], {});\n",
              "        if (!dataTable) return;\n",
              "\n",
              "        const docLinkHtml = 'Like what you see? Visit the ' +\n",
              "          '<a target=\"_blank\" href=https://colab.research.google.com/notebooks/data_table.ipynb>data table notebook</a>'\n",
              "          + ' to learn more about interactive tables.';\n",
              "        element.innerHTML = '';\n",
              "        dataTable['output_type'] = 'display_data';\n",
              "        await google.colab.output.renderOutput(dataTable, element);\n",
              "        const docLink = document.createElement('div');\n",
              "        docLink.innerHTML = docLinkHtml;\n",
              "        element.appendChild(docLink);\n",
              "      }\n",
              "    </script>\n",
              "  </div>\n",
              "\n",
              "\n",
              "<div id=\"df-69df2760-b81c-4042-ab36-372d7e1febcb\">\n",
              "  <button class=\"colab-df-quickchart\" onclick=\"quickchart('df-69df2760-b81c-4042-ab36-372d7e1febcb')\"\n",
              "            title=\"Suggest charts\"\n",
              "            style=\"display:none;\">\n",
              "\n",
              "<svg xmlns=\"http://www.w3.org/2000/svg\" height=\"24px\"viewBox=\"0 0 24 24\"\n",
              "     width=\"24px\">\n",
              "    <g>\n",
              "        <path d=\"M19 3H5c-1.1 0-2 .9-2 2v14c0 1.1.9 2 2 2h14c1.1 0 2-.9 2-2V5c0-1.1-.9-2-2-2zM9 17H7v-7h2v7zm4 0h-2V7h2v10zm4 0h-2v-4h2v4z\"/>\n",
              "    </g>\n",
              "</svg>\n",
              "  </button>\n",
              "\n",
              "<style>\n",
              "  .colab-df-quickchart {\n",
              "      --bg-color: #E8F0FE;\n",
              "      --fill-color: #1967D2;\n",
              "      --hover-bg-color: #E2EBFA;\n",
              "      --hover-fill-color: #174EA6;\n",
              "      --disabled-fill-color: #AAA;\n",
              "      --disabled-bg-color: #DDD;\n",
              "  }\n",
              "\n",
              "  [theme=dark] .colab-df-quickchart {\n",
              "      --bg-color: #3B4455;\n",
              "      --fill-color: #D2E3FC;\n",
              "      --hover-bg-color: #434B5C;\n",
              "      --hover-fill-color: #FFFFFF;\n",
              "      --disabled-bg-color: #3B4455;\n",
              "      --disabled-fill-color: #666;\n",
              "  }\n",
              "\n",
              "  .colab-df-quickchart {\n",
              "    background-color: var(--bg-color);\n",
              "    border: none;\n",
              "    border-radius: 50%;\n",
              "    cursor: pointer;\n",
              "    display: none;\n",
              "    fill: var(--fill-color);\n",
              "    height: 32px;\n",
              "    padding: 0;\n",
              "    width: 32px;\n",
              "  }\n",
              "\n",
              "  .colab-df-quickchart:hover {\n",
              "    background-color: var(--hover-bg-color);\n",
              "    box-shadow: 0 1px 2px rgba(60, 64, 67, 0.3), 0 1px 3px 1px rgba(60, 64, 67, 0.15);\n",
              "    fill: var(--button-hover-fill-color);\n",
              "  }\n",
              "\n",
              "  .colab-df-quickchart-complete:disabled,\n",
              "  .colab-df-quickchart-complete:disabled:hover {\n",
              "    background-color: var(--disabled-bg-color);\n",
              "    fill: var(--disabled-fill-color);\n",
              "    box-shadow: none;\n",
              "  }\n",
              "\n",
              "  .colab-df-spinner {\n",
              "    border: 2px solid var(--fill-color);\n",
              "    border-color: transparent;\n",
              "    border-bottom-color: var(--fill-color);\n",
              "    animation:\n",
              "      spin 1s steps(1) infinite;\n",
              "  }\n",
              "\n",
              "  @keyframes spin {\n",
              "    0% {\n",
              "      border-color: transparent;\n",
              "      border-bottom-color: var(--fill-color);\n",
              "      border-left-color: var(--fill-color);\n",
              "    }\n",
              "    20% {\n",
              "      border-color: transparent;\n",
              "      border-left-color: var(--fill-color);\n",
              "      border-top-color: var(--fill-color);\n",
              "    }\n",
              "    30% {\n",
              "      border-color: transparent;\n",
              "      border-left-color: var(--fill-color);\n",
              "      border-top-color: var(--fill-color);\n",
              "      border-right-color: var(--fill-color);\n",
              "    }\n",
              "    40% {\n",
              "      border-color: transparent;\n",
              "      border-right-color: var(--fill-color);\n",
              "      border-top-color: var(--fill-color);\n",
              "    }\n",
              "    60% {\n",
              "      border-color: transparent;\n",
              "      border-right-color: var(--fill-color);\n",
              "    }\n",
              "    80% {\n",
              "      border-color: transparent;\n",
              "      border-right-color: var(--fill-color);\n",
              "      border-bottom-color: var(--fill-color);\n",
              "    }\n",
              "    90% {\n",
              "      border-color: transparent;\n",
              "      border-bottom-color: var(--fill-color);\n",
              "    }\n",
              "  }\n",
              "</style>\n",
              "\n",
              "  <script>\n",
              "    async function quickchart(key) {\n",
              "      const quickchartButtonEl =\n",
              "        document.querySelector('#' + key + ' button');\n",
              "      quickchartButtonEl.disabled = true;  // To prevent multiple clicks.\n",
              "      quickchartButtonEl.classList.add('colab-df-spinner');\n",
              "      try {\n",
              "        const charts = await google.colab.kernel.invokeFunction(\n",
              "            'suggestCharts', [key], {});\n",
              "      } catch (error) {\n",
              "        console.error('Error during call to suggestCharts:', error);\n",
              "      }\n",
              "      quickchartButtonEl.classList.remove('colab-df-spinner');\n",
              "      quickchartButtonEl.classList.add('colab-df-quickchart-complete');\n",
              "    }\n",
              "    (() => {\n",
              "      let quickchartButtonEl =\n",
              "        document.querySelector('#df-69df2760-b81c-4042-ab36-372d7e1febcb button');\n",
              "      quickchartButtonEl.style.display =\n",
              "        google.colab.kernel.accessAllowed ? 'block' : 'none';\n",
              "    })();\n",
              "  </script>\n",
              "</div>\n",
              "    </div>\n",
              "  </div>\n"
            ],
            "application/vnd.google.colaboratory.intrinsic+json": {
              "type": "dataframe",
              "summary": "{\n  \"name\": \"df\",\n  \"rows\": 8,\n  \"fields\": [\n    {\n      \"column\": \"Age\",\n      \"properties\": {\n        \"dtype\": \"string\",\n        \"num_unique_values\": 8,\n        \"samples\": [\n          \"44.07\",\n          \"44.00\",\n          \"3900.00\"\n        ],\n        \"semantic_type\": \"\",\n        \"description\": \"\"\n      }\n    },\n    {\n      \"column\": \"Purchase Amount (USD)\",\n      \"properties\": {\n        \"dtype\": \"string\",\n        \"num_unique_values\": 8,\n        \"samples\": [\n          \"59.76\",\n          \"60.00\",\n          \"3900.00\"\n        ],\n        \"semantic_type\": \"\",\n        \"description\": \"\"\n      }\n    },\n    {\n      \"column\": \"Review Rating\",\n      \"properties\": {\n        \"dtype\": \"string\",\n        \"num_unique_values\": 8,\n        \"samples\": [\n          \"3.75\",\n          \"3.70\",\n          \"3900.00\"\n        ],\n        \"semantic_type\": \"\",\n        \"description\": \"\"\n      }\n    },\n    {\n      \"column\": \"Previous Purchases\",\n      \"properties\": {\n        \"dtype\": \"string\",\n        \"num_unique_values\": 8,\n        \"samples\": [\n          \"25.35\",\n          \"25.00\",\n          \"3900.00\"\n        ],\n        \"semantic_type\": \"\",\n        \"description\": \"\"\n      }\n    }\n  ]\n}"
            }
          },
          "metadata": {},
          "execution_count": 4
        }
      ]
    },
    {
      "cell_type": "code",
      "source": [
        "df.describe(include='object')[['Gender','Item Purchased', 'Category', 'Location',\n",
        "                               'Size', 'Color', 'Season', 'Subscription Status',\n",
        "                               'Shipping Type', 'Discount Applied', 'Promo Code Used',\n",
        "                               'Payment Method', 'Frequency of Purchases']]\n"
      ],
      "metadata": {
        "colab": {
          "base_uri": "https://localhost:8080/",
          "height": 175
        },
        "id": "rj36BcxV9mPa",
        "outputId": "275306d2-a091-46aa-c954-b137c3caf535"
      },
      "execution_count": 5,
      "outputs": [
        {
          "output_type": "execute_result",
          "data": {
            "text/plain": [
              "       Gender Item Purchased  Category Location  Size  Color  Season  \\\n",
              "count    3900           3900      3900     3900  3900   3900    3900   \n",
              "unique      2             25         4       50     4     25       4   \n",
              "top      Male         Blouse  Clothing  Montana     M  Olive  Spring   \n",
              "freq     2652            171      1737       96  1755    177     999   \n",
              "\n",
              "       Subscription Status  Shipping Type Discount Applied Promo Code Used  \\\n",
              "count                 3900           3900             3900            3900   \n",
              "unique                   2              6                2               2   \n",
              "top                     No  Free Shipping               No              No   \n",
              "freq                  2847            675             2223            2223   \n",
              "\n",
              "       Payment Method Frequency of Purchases  \n",
              "count            3900                   3900  \n",
              "unique              6                      7  \n",
              "top            PayPal         Every 3 Months  \n",
              "freq              677                    584  "
            ],
            "text/html": [
              "\n",
              "  <div id=\"df-1f4d7551-dae1-4e61-b4e5-6b70cbbe1287\" class=\"colab-df-container\">\n",
              "    <div>\n",
              "<style scoped>\n",
              "    .dataframe tbody tr th:only-of-type {\n",
              "        vertical-align: middle;\n",
              "    }\n",
              "\n",
              "    .dataframe tbody tr th {\n",
              "        vertical-align: top;\n",
              "    }\n",
              "\n",
              "    .dataframe thead th {\n",
              "        text-align: right;\n",
              "    }\n",
              "</style>\n",
              "<table border=\"1\" class=\"dataframe\">\n",
              "  <thead>\n",
              "    <tr style=\"text-align: right;\">\n",
              "      <th></th>\n",
              "      <th>Gender</th>\n",
              "      <th>Item Purchased</th>\n",
              "      <th>Category</th>\n",
              "      <th>Location</th>\n",
              "      <th>Size</th>\n",
              "      <th>Color</th>\n",
              "      <th>Season</th>\n",
              "      <th>Subscription Status</th>\n",
              "      <th>Shipping Type</th>\n",
              "      <th>Discount Applied</th>\n",
              "      <th>Promo Code Used</th>\n",
              "      <th>Payment Method</th>\n",
              "      <th>Frequency of Purchases</th>\n",
              "    </tr>\n",
              "  </thead>\n",
              "  <tbody>\n",
              "    <tr>\n",
              "      <th>count</th>\n",
              "      <td>3900</td>\n",
              "      <td>3900</td>\n",
              "      <td>3900</td>\n",
              "      <td>3900</td>\n",
              "      <td>3900</td>\n",
              "      <td>3900</td>\n",
              "      <td>3900</td>\n",
              "      <td>3900</td>\n",
              "      <td>3900</td>\n",
              "      <td>3900</td>\n",
              "      <td>3900</td>\n",
              "      <td>3900</td>\n",
              "      <td>3900</td>\n",
              "    </tr>\n",
              "    <tr>\n",
              "      <th>unique</th>\n",
              "      <td>2</td>\n",
              "      <td>25</td>\n",
              "      <td>4</td>\n",
              "      <td>50</td>\n",
              "      <td>4</td>\n",
              "      <td>25</td>\n",
              "      <td>4</td>\n",
              "      <td>2</td>\n",
              "      <td>6</td>\n",
              "      <td>2</td>\n",
              "      <td>2</td>\n",
              "      <td>6</td>\n",
              "      <td>7</td>\n",
              "    </tr>\n",
              "    <tr>\n",
              "      <th>top</th>\n",
              "      <td>Male</td>\n",
              "      <td>Blouse</td>\n",
              "      <td>Clothing</td>\n",
              "      <td>Montana</td>\n",
              "      <td>M</td>\n",
              "      <td>Olive</td>\n",
              "      <td>Spring</td>\n",
              "      <td>No</td>\n",
              "      <td>Free Shipping</td>\n",
              "      <td>No</td>\n",
              "      <td>No</td>\n",
              "      <td>PayPal</td>\n",
              "      <td>Every 3 Months</td>\n",
              "    </tr>\n",
              "    <tr>\n",
              "      <th>freq</th>\n",
              "      <td>2652</td>\n",
              "      <td>171</td>\n",
              "      <td>1737</td>\n",
              "      <td>96</td>\n",
              "      <td>1755</td>\n",
              "      <td>177</td>\n",
              "      <td>999</td>\n",
              "      <td>2847</td>\n",
              "      <td>675</td>\n",
              "      <td>2223</td>\n",
              "      <td>2223</td>\n",
              "      <td>677</td>\n",
              "      <td>584</td>\n",
              "    </tr>\n",
              "  </tbody>\n",
              "</table>\n",
              "</div>\n",
              "    <div class=\"colab-df-buttons\">\n",
              "\n",
              "  <div class=\"colab-df-container\">\n",
              "    <button class=\"colab-df-convert\" onclick=\"convertToInteractive('df-1f4d7551-dae1-4e61-b4e5-6b70cbbe1287')\"\n",
              "            title=\"Convert this dataframe to an interactive table.\"\n",
              "            style=\"display:none;\">\n",
              "\n",
              "  <svg xmlns=\"http://www.w3.org/2000/svg\" height=\"24px\" viewBox=\"0 -960 960 960\">\n",
              "    <path d=\"M120-120v-720h720v720H120Zm60-500h600v-160H180v160Zm220 220h160v-160H400v160Zm0 220h160v-160H400v160ZM180-400h160v-160H180v160Zm440 0h160v-160H620v160ZM180-180h160v-160H180v160Zm440 0h160v-160H620v160Z\"/>\n",
              "  </svg>\n",
              "    </button>\n",
              "\n",
              "  <style>\n",
              "    .colab-df-container {\n",
              "      display:flex;\n",
              "      gap: 12px;\n",
              "    }\n",
              "\n",
              "    .colab-df-convert {\n",
              "      background-color: #E8F0FE;\n",
              "      border: none;\n",
              "      border-radius: 50%;\n",
              "      cursor: pointer;\n",
              "      display: none;\n",
              "      fill: #1967D2;\n",
              "      height: 32px;\n",
              "      padding: 0 0 0 0;\n",
              "      width: 32px;\n",
              "    }\n",
              "\n",
              "    .colab-df-convert:hover {\n",
              "      background-color: #E2EBFA;\n",
              "      box-shadow: 0px 1px 2px rgba(60, 64, 67, 0.3), 0px 1px 3px 1px rgba(60, 64, 67, 0.15);\n",
              "      fill: #174EA6;\n",
              "    }\n",
              "\n",
              "    .colab-df-buttons div {\n",
              "      margin-bottom: 4px;\n",
              "    }\n",
              "\n",
              "    [theme=dark] .colab-df-convert {\n",
              "      background-color: #3B4455;\n",
              "      fill: #D2E3FC;\n",
              "    }\n",
              "\n",
              "    [theme=dark] .colab-df-convert:hover {\n",
              "      background-color: #434B5C;\n",
              "      box-shadow: 0px 1px 3px 1px rgba(0, 0, 0, 0.15);\n",
              "      filter: drop-shadow(0px 1px 2px rgba(0, 0, 0, 0.3));\n",
              "      fill: #FFFFFF;\n",
              "    }\n",
              "  </style>\n",
              "\n",
              "    <script>\n",
              "      const buttonEl =\n",
              "        document.querySelector('#df-1f4d7551-dae1-4e61-b4e5-6b70cbbe1287 button.colab-df-convert');\n",
              "      buttonEl.style.display =\n",
              "        google.colab.kernel.accessAllowed ? 'block' : 'none';\n",
              "\n",
              "      async function convertToInteractive(key) {\n",
              "        const element = document.querySelector('#df-1f4d7551-dae1-4e61-b4e5-6b70cbbe1287');\n",
              "        const dataTable =\n",
              "          await google.colab.kernel.invokeFunction('convertToInteractive',\n",
              "                                                    [key], {});\n",
              "        if (!dataTable) return;\n",
              "\n",
              "        const docLinkHtml = 'Like what you see? Visit the ' +\n",
              "          '<a target=\"_blank\" href=https://colab.research.google.com/notebooks/data_table.ipynb>data table notebook</a>'\n",
              "          + ' to learn more about interactive tables.';\n",
              "        element.innerHTML = '';\n",
              "        dataTable['output_type'] = 'display_data';\n",
              "        await google.colab.output.renderOutput(dataTable, element);\n",
              "        const docLink = document.createElement('div');\n",
              "        docLink.innerHTML = docLinkHtml;\n",
              "        element.appendChild(docLink);\n",
              "      }\n",
              "    </script>\n",
              "  </div>\n",
              "\n",
              "\n",
              "<div id=\"df-40a7298d-c433-4072-a567-6946d9b829e2\">\n",
              "  <button class=\"colab-df-quickchart\" onclick=\"quickchart('df-40a7298d-c433-4072-a567-6946d9b829e2')\"\n",
              "            title=\"Suggest charts\"\n",
              "            style=\"display:none;\">\n",
              "\n",
              "<svg xmlns=\"http://www.w3.org/2000/svg\" height=\"24px\"viewBox=\"0 0 24 24\"\n",
              "     width=\"24px\">\n",
              "    <g>\n",
              "        <path d=\"M19 3H5c-1.1 0-2 .9-2 2v14c0 1.1.9 2 2 2h14c1.1 0 2-.9 2-2V5c0-1.1-.9-2-2-2zM9 17H7v-7h2v7zm4 0h-2V7h2v10zm4 0h-2v-4h2v4z\"/>\n",
              "    </g>\n",
              "</svg>\n",
              "  </button>\n",
              "\n",
              "<style>\n",
              "  .colab-df-quickchart {\n",
              "      --bg-color: #E8F0FE;\n",
              "      --fill-color: #1967D2;\n",
              "      --hover-bg-color: #E2EBFA;\n",
              "      --hover-fill-color: #174EA6;\n",
              "      --disabled-fill-color: #AAA;\n",
              "      --disabled-bg-color: #DDD;\n",
              "  }\n",
              "\n",
              "  [theme=dark] .colab-df-quickchart {\n",
              "      --bg-color: #3B4455;\n",
              "      --fill-color: #D2E3FC;\n",
              "      --hover-bg-color: #434B5C;\n",
              "      --hover-fill-color: #FFFFFF;\n",
              "      --disabled-bg-color: #3B4455;\n",
              "      --disabled-fill-color: #666;\n",
              "  }\n",
              "\n",
              "  .colab-df-quickchart {\n",
              "    background-color: var(--bg-color);\n",
              "    border: none;\n",
              "    border-radius: 50%;\n",
              "    cursor: pointer;\n",
              "    display: none;\n",
              "    fill: var(--fill-color);\n",
              "    height: 32px;\n",
              "    padding: 0;\n",
              "    width: 32px;\n",
              "  }\n",
              "\n",
              "  .colab-df-quickchart:hover {\n",
              "    background-color: var(--hover-bg-color);\n",
              "    box-shadow: 0 1px 2px rgba(60, 64, 67, 0.3), 0 1px 3px 1px rgba(60, 64, 67, 0.15);\n",
              "    fill: var(--button-hover-fill-color);\n",
              "  }\n",
              "\n",
              "  .colab-df-quickchart-complete:disabled,\n",
              "  .colab-df-quickchart-complete:disabled:hover {\n",
              "    background-color: var(--disabled-bg-color);\n",
              "    fill: var(--disabled-fill-color);\n",
              "    box-shadow: none;\n",
              "  }\n",
              "\n",
              "  .colab-df-spinner {\n",
              "    border: 2px solid var(--fill-color);\n",
              "    border-color: transparent;\n",
              "    border-bottom-color: var(--fill-color);\n",
              "    animation:\n",
              "      spin 1s steps(1) infinite;\n",
              "  }\n",
              "\n",
              "  @keyframes spin {\n",
              "    0% {\n",
              "      border-color: transparent;\n",
              "      border-bottom-color: var(--fill-color);\n",
              "      border-left-color: var(--fill-color);\n",
              "    }\n",
              "    20% {\n",
              "      border-color: transparent;\n",
              "      border-left-color: var(--fill-color);\n",
              "      border-top-color: var(--fill-color);\n",
              "    }\n",
              "    30% {\n",
              "      border-color: transparent;\n",
              "      border-left-color: var(--fill-color);\n",
              "      border-top-color: var(--fill-color);\n",
              "      border-right-color: var(--fill-color);\n",
              "    }\n",
              "    40% {\n",
              "      border-color: transparent;\n",
              "      border-right-color: var(--fill-color);\n",
              "      border-top-color: var(--fill-color);\n",
              "    }\n",
              "    60% {\n",
              "      border-color: transparent;\n",
              "      border-right-color: var(--fill-color);\n",
              "    }\n",
              "    80% {\n",
              "      border-color: transparent;\n",
              "      border-right-color: var(--fill-color);\n",
              "      border-bottom-color: var(--fill-color);\n",
              "    }\n",
              "    90% {\n",
              "      border-color: transparent;\n",
              "      border-bottom-color: var(--fill-color);\n",
              "    }\n",
              "  }\n",
              "</style>\n",
              "\n",
              "  <script>\n",
              "    async function quickchart(key) {\n",
              "      const quickchartButtonEl =\n",
              "        document.querySelector('#' + key + ' button');\n",
              "      quickchartButtonEl.disabled = true;  // To prevent multiple clicks.\n",
              "      quickchartButtonEl.classList.add('colab-df-spinner');\n",
              "      try {\n",
              "        const charts = await google.colab.kernel.invokeFunction(\n",
              "            'suggestCharts', [key], {});\n",
              "      } catch (error) {\n",
              "        console.error('Error during call to suggestCharts:', error);\n",
              "      }\n",
              "      quickchartButtonEl.classList.remove('colab-df-spinner');\n",
              "      quickchartButtonEl.classList.add('colab-df-quickchart-complete');\n",
              "    }\n",
              "    (() => {\n",
              "      let quickchartButtonEl =\n",
              "        document.querySelector('#df-40a7298d-c433-4072-a567-6946d9b829e2 button');\n",
              "      quickchartButtonEl.style.display =\n",
              "        google.colab.kernel.accessAllowed ? 'block' : 'none';\n",
              "    })();\n",
              "  </script>\n",
              "</div>\n",
              "    </div>\n",
              "  </div>\n"
            ],
            "application/vnd.google.colaboratory.intrinsic+json": {
              "type": "dataframe",
              "summary": "{\n  \"name\": \"                               'Payment Method', 'Frequency of Purchases']]\",\n  \"rows\": 4,\n  \"fields\": [\n    {\n      \"column\": \"Gender\",\n      \"properties\": {\n        \"dtype\": \"string\",\n        \"num_unique_values\": 4,\n        \"samples\": [\n          2,\n          \"2652\",\n          \"3900\"\n        ],\n        \"semantic_type\": \"\",\n        \"description\": \"\"\n      }\n    },\n    {\n      \"column\": \"Item Purchased\",\n      \"properties\": {\n        \"dtype\": \"string\",\n        \"num_unique_values\": 4,\n        \"samples\": [\n          25,\n          \"171\",\n          \"3900\"\n        ],\n        \"semantic_type\": \"\",\n        \"description\": \"\"\n      }\n    },\n    {\n      \"column\": \"Category\",\n      \"properties\": {\n        \"dtype\": \"string\",\n        \"num_unique_values\": 4,\n        \"samples\": [\n          4,\n          \"1737\",\n          \"3900\"\n        ],\n        \"semantic_type\": \"\",\n        \"description\": \"\"\n      }\n    },\n    {\n      \"column\": \"Location\",\n      \"properties\": {\n        \"dtype\": \"string\",\n        \"num_unique_values\": 4,\n        \"samples\": [\n          50,\n          \"96\",\n          \"3900\"\n        ],\n        \"semantic_type\": \"\",\n        \"description\": \"\"\n      }\n    },\n    {\n      \"column\": \"Size\",\n      \"properties\": {\n        \"dtype\": \"string\",\n        \"num_unique_values\": 4,\n        \"samples\": [\n          4,\n          \"1755\",\n          \"3900\"\n        ],\n        \"semantic_type\": \"\",\n        \"description\": \"\"\n      }\n    },\n    {\n      \"column\": \"Color\",\n      \"properties\": {\n        \"dtype\": \"string\",\n        \"num_unique_values\": 4,\n        \"samples\": [\n          25,\n          \"177\",\n          \"3900\"\n        ],\n        \"semantic_type\": \"\",\n        \"description\": \"\"\n      }\n    },\n    {\n      \"column\": \"Season\",\n      \"properties\": {\n        \"dtype\": \"string\",\n        \"num_unique_values\": 4,\n        \"samples\": [\n          4,\n          \"999\",\n          \"3900\"\n        ],\n        \"semantic_type\": \"\",\n        \"description\": \"\"\n      }\n    },\n    {\n      \"column\": \"Subscription Status\",\n      \"properties\": {\n        \"dtype\": \"string\",\n        \"num_unique_values\": 4,\n        \"samples\": [\n          2,\n          \"2847\",\n          \"3900\"\n        ],\n        \"semantic_type\": \"\",\n        \"description\": \"\"\n      }\n    },\n    {\n      \"column\": \"Shipping Type\",\n      \"properties\": {\n        \"dtype\": \"string\",\n        \"num_unique_values\": 4,\n        \"samples\": [\n          6,\n          \"675\",\n          \"3900\"\n        ],\n        \"semantic_type\": \"\",\n        \"description\": \"\"\n      }\n    },\n    {\n      \"column\": \"Discount Applied\",\n      \"properties\": {\n        \"dtype\": \"string\",\n        \"num_unique_values\": 4,\n        \"samples\": [\n          2,\n          \"2223\",\n          \"3900\"\n        ],\n        \"semantic_type\": \"\",\n        \"description\": \"\"\n      }\n    },\n    {\n      \"column\": \"Promo Code Used\",\n      \"properties\": {\n        \"dtype\": \"string\",\n        \"num_unique_values\": 4,\n        \"samples\": [\n          2,\n          \"2223\",\n          \"3900\"\n        ],\n        \"semantic_type\": \"\",\n        \"description\": \"\"\n      }\n    },\n    {\n      \"column\": \"Payment Method\",\n      \"properties\": {\n        \"dtype\": \"string\",\n        \"num_unique_values\": 4,\n        \"samples\": [\n          6,\n          \"677\",\n          \"3900\"\n        ],\n        \"semantic_type\": \"\",\n        \"description\": \"\"\n      }\n    },\n    {\n      \"column\": \"Frequency of Purchases\",\n      \"properties\": {\n        \"dtype\": \"string\",\n        \"num_unique_values\": 4,\n        \"samples\": [\n          7,\n          \"584\",\n          \"3900\"\n        ],\n        \"semantic_type\": \"\",\n        \"description\": \"\"\n      }\n    }\n  ]\n}"
            }
          },
          "metadata": {},
          "execution_count": 5
        }
      ]
    },
    {
      "cell_type": "markdown",
      "source": [
        "Нулевая гипотеза: средняя цена товаров у мужчин и женщин не различаются\n",
        "\n",
        "Альтернативная гипотеза : средняя цена товаров у мужчин и женщин различаются\n",
        "\n",
        "Уровень значимости выбираю равным 0.05"
      ],
      "metadata": {
        "id": "NuFWO-iCX1HI"
      }
    },
    {
      "cell_type": "code",
      "source": [
        "male_purchase = df[df['Gender'] == 'Male']['Purchase Amount (USD)']\n",
        "female_purchase = df[df['Gender'] == 'Female']['Purchase Amount (USD)']\n",
        "\n",
        "#Проводим t-test\n",
        "t_stat, p_value = ttest_ind(male_purchase, female_purchase, nan_policy='omit')\n",
        "print(f\"T-statistic: {t_stat}, p-value: {p_value}\")\n",
        "\n",
        "#Интерпретация результата\n",
        "if p_value > 0.05:\n",
        "    print(\n",
        "        \"На урвоне значимости 0.05 мы не можем отвергнуть нулевую гипотезу, \"\n",
        "        \"мы не можем утверждать, что средняя цена товаров у мужчин и женщин различаются.\"\n",
        "    )\n",
        "else:\n",
        "    print(\n",
        "        \"Нулевая гипотеза отвергается в пользу альтернативной, \"\n",
        "        \"средняя цена товаров у мужчин и женщин различаются на урвоне значимости 0.05\"\n",
        "    )"
      ],
      "metadata": {
        "colab": {
          "base_uri": "https://localhost:8080/"
        },
        "id": "Iz009MghYlKU",
        "outputId": "a2ae575b-687e-4801-cc48-3bb5cd52dc7d"
      },
      "execution_count": 6,
      "outputs": [
        {
          "output_type": "stream",
          "name": "stdout",
          "text": [
            "T-statistic: -0.8769152065030424, p-value: 0.38058673555268097\n",
            "На урвоне значимости 0.05 мы не можем отвергнуть нулевую гипотезу, мы не можем утверждать, что средняя цена товаров у мужчин и женщин различаются.\n"
          ]
        }
      ]
    },
    {
      "cell_type": "markdown",
      "source": [
        "Нулевая гипотеза: средний возраст покупателей мужчин и женщин не различаются\n",
        "\n",
        "Альтернативная гипотеза : средний возраст покупателей мужчин и женщин различаются\n",
        "\n",
        "Уровень значимости выбираю равным 0.05"
      ],
      "metadata": {
        "id": "uB8CpZbscm9m"
      }
    },
    {
      "cell_type": "code",
      "source": [
        "male_purchase = df[df['Gender'] == 'Male']['Age']\n",
        "female_purchase = df[df['Gender'] == 'Female']['Age']\n",
        "\n",
        "#Проводим t-test\n",
        "t_stat, p_value = ttest_ind(male_purchase, female_purchase, nan_policy='omit')\n",
        "print(f\"T-statistic: {t_stat}, p-value: {p_value}\")\n",
        "\n",
        "#Интерпретация результата\n",
        "if p_value > 0.05:\n",
        "    print(\n",
        "        \"На урвоне значимости 0.05 ы не можем отвергнуть нулевую гипотезу, \"\n",
        "        \"мы не можем утверждать, что средний возраст покупателей мужчин и женщин различаются.\"\n",
        "    )\n",
        "else:\n",
        "    print(\n",
        "        \"Нулевая гипотеза отвергается в пользу альтернативной, \"\n",
        "        \"средний средний возраст покупателей мужчин и женщин \"\n",
        "        \"различаются на урвоне значимости 0.05\"\n",
        "    )"
      ],
      "metadata": {
        "colab": {
          "base_uri": "https://localhost:8080/"
        },
        "id": "2CrwWubecnKz",
        "outputId": "568a96ee-4b04-402a-8141-4189a2f29016"
      },
      "execution_count": 7,
      "outputs": [
        {
          "output_type": "stream",
          "name": "stdout",
          "text": [
            "T-statistic: 0.17252201296583758, p-value: 0.8630361135664557\n",
            "На урвоне значимости 0.05 ы не можем отвергнуть нулевую гипотезу, мы не можем утверждать, что средний возраст покупателей мужчин и женщин различаются.\n"
          ]
        }
      ]
    },
    {
      "cell_type": "markdown",
      "source": [
        "Основная гипотеза: мужчины и женщины покупают одежду одинакового размера\n",
        "\n",
        "Альтернативная: мужчины и женщины покупают одежду разного размера\n",
        "\n",
        "Уровень значимости: 0,05"
      ],
      "metadata": {
        "id": "DA821nbGjrvZ"
      }
    },
    {
      "cell_type": "code",
      "source": [
        "df['Size'].unique()"
      ],
      "metadata": {
        "colab": {
          "base_uri": "https://localhost:8080/"
        },
        "id": "Knahw0DIjaxG",
        "outputId": "b7d81602-6f89-4dca-c278-4d76eb6c7c4c"
      },
      "execution_count": 8,
      "outputs": [
        {
          "output_type": "execute_result",
          "data": {
            "text/plain": [
              "array(['L', 'S', 'M', 'XL'], dtype=object)"
            ]
          },
          "metadata": {},
          "execution_count": 8
        }
      ]
    },
    {
      "cell_type": "code",
      "source": [
        "size_mapping = {'S': 1, 'M': 2, 'L': 3, 'XL': 4, 'XXL': 5}\n",
        "df['Size_numeric'] = df['Size'].map(size_mapping)\n",
        "\n",
        "male_purchase = df[df['Gender'] == 'Male']['Size_numeric']\n",
        "female_purchase = df[df['Gender'] == 'Female']['Size_numeric']\n",
        "\n",
        "#Проводим t-test\n",
        "t_stat, p_value = ttest_ind(male_purchase, female_purchase, nan_policy='omit')\n",
        "print(f\"T-statistic: {t_stat}, p-value: {p_value}\")\n",
        "\n",
        "#Интерпретация результата\n",
        "if p_value > 0.05:\n",
        "    print(\n",
        "        \"На урвоне значимости 0.05 мы не можем отвергнуть нулевую гипотезу, \"\n",
        "        \"мы не можем утверждать, что женщины и мужчины покупают одежду разного размера.\"\n",
        "    )\n",
        "else:\n",
        "    print(\n",
        "        \"Нулевая гипотеза отвергается в пользу альтернативной, \"\n",
        "        \"женщины и мужчины покупают одежду разного размера \"\n",
        "        \"на урвоне значимости 0.05\"\n",
        "    )"
      ],
      "metadata": {
        "colab": {
          "base_uri": "https://localhost:8080/"
        },
        "id": "wzVqZ-nojEn9",
        "outputId": "c5a2176e-ffba-41d9-f4ef-771155e32c1a"
      },
      "execution_count": 9,
      "outputs": [
        {
          "output_type": "stream",
          "name": "stdout",
          "text": [
            "T-statistic: -0.7254775283006095, p-value: 0.4682026768649411\n",
            "На урвоне значимости 0.05 мы не можем отвергнуть нулевую гипотезу, мы не можем утверждать, что женщины и мужчины покупают одежду разного размера.\n"
          ]
        }
      ]
    },
    {
      "cell_type": "markdown",
      "source": [
        "Нулевая гипотеза: женщины и мужчины одинаково часто покупают товары из категории аксессуары\n",
        "\n",
        "Альтернативная гипотеза : женщины и мужчины покупают товары из категории аксессуары c разной частотой\n",
        "\n",
        "Уровень значимости выбираю равным 0.05"
      ],
      "metadata": {
        "id": "vlng_x2dcnlq"
      }
    },
    {
      "cell_type": "code",
      "source": [
        "accessories_df = df[df['Category'] == 'Accessories']\n",
        "\n",
        "#Считаем количество покупок аксессуаров для каждого пола\n",
        "women_accessories = accessories_df[accessories_df['Gender'] == 'Female'].shape[0]\n",
        "men_accessories = accessories_df[accessories_df['Gender'] == 'Male'].shape[0]\n",
        "\n",
        "#Считаем общеее количетсво покупок для каждого пола\n",
        "women_total = df[df['Gender'] == 'Female'].shape[0]\n",
        "men_total = df[df['Gender'] == 'Male'].shape[0]\n",
        "\n",
        "print(f\"Женщины, купившие аксессуары: {women_accessories}, всего женщин: {women_total}\")\n",
        "print(f\"Мужчины, купившие аксессуары: {men_accessories}, всего мужчин: {men_total}\")\n",
        "\n",
        "#Таблица сопряженности\n",
        "contingency_table = [[women_accessories, women_total - women_accessories],\n",
        "                     [men_accessories, men_total - men_accessories]]\n",
        "\n",
        "#Вычисляем хи-квадрат\n",
        "chi2, p_value, dof, expected = chi2_contingency(contingency_table)\n",
        "print(f\"Chi2: {chi2}, p-value: {p_value}\")\n",
        "\n",
        "#Интерпретация результата\n",
        "if p_value > 0.05:\n",
        "    print(\n",
        "        \"На урвоне значимости 0.05 мы не можем отвергнуть нулевую гипотезу, \"\n",
        "        \"мы не можем утверждать, что женщины покупают аксессураы чем мужчины\"\n",
        "    )\n",
        "else:\n",
        "    print(\n",
        "        \"Нулевая гипотеза отвергается в пользу альтернативной, \"\n",
        "        \"женщины и мужчины покупают аксессуары с разной частотой \"\n",
        "        \"на урвоне значимости 0.05\"\n",
        "    )"
      ],
      "metadata": {
        "colab": {
          "base_uri": "https://localhost:8080/"
        },
        "id": "kQvn9uuUeQsd",
        "outputId": "30b6d381-5cea-4537-d134-1e0dfc5530ed"
      },
      "execution_count": 10,
      "outputs": [
        {
          "output_type": "stream",
          "name": "stdout",
          "text": [
            "Женщины, купившие аксессуары: 392, всего женщин: 1248\n",
            "Мужчины, купившие аксессуары: 848, всего мужчин: 2652\n",
            "Chi2: 0.1004706716090502, p-value: 0.7512655391929199\n",
            "На урвоне значимости 0.05 мы не можем отвергнуть нулевую гипотезу, мы не можем утверждать, что женщины покупают аксессураы чем мужчины\n"
          ]
        }
      ]
    },
    {
      "cell_type": "markdown",
      "source": [
        "Основная гипотеза: связи между возрастом и ценой товара нет\n",
        "\n",
        "Альтернаятивная гипотеза: связь между возрастом и ценой товара есть\n",
        "\n",
        "Уровень значимости: 0,05"
      ],
      "metadata": {
        "id": "YSvBSrS7cn9R"
      }
    },
    {
      "cell_type": "code",
      "source": [
        "#Высчитываем корреляцию и p value\n",
        "correlation, p_value = pearsonr(df['Age'], df['Purchase Amount (USD)'])\n",
        "\n",
        "print(f'Значение корреляции Пирсона:{correlation}, p value: {p_value}')\n",
        "\n",
        "#Интерпретация результата\n",
        "if p_value > 0.05:\n",
        "    print(\n",
        "        \"На урвоне значимости 0.05 мы не можем отвергнуть нулевую гипотезу, \"\n",
        "        \"мы не можем утверждать, связь между ценой товара и возрастом есть\"\n",
        "    )\n",
        "else:\n",
        "    print(\n",
        "        \"Нулевая гипотеза отвергается в пользу альтернативной, \"\n",
        "        \"связь между возрастом и ценой товара есть \"\n",
        "        \"на урвоне значимости 0.05\"\n",
        "    )"
      ],
      "metadata": {
        "colab": {
          "base_uri": "https://localhost:8080/"
        },
        "id": "YRPs9hWPcoMr",
        "outputId": "6c375bf4-c6cb-4c1f-b401-d009800246e1"
      },
      "execution_count": 11,
      "outputs": [
        {
          "output_type": "stream",
          "name": "stdout",
          "text": [
            "Значение корреляции Пирсона:-0.010423647378686536, p value: 0.5151978241224925\n",
            "На урвоне значимости 0.05 мы не можем отвергнуть нулевую гипотезу, мы не можем утверждать, связь между ценой товара и возрастом есть\n"
          ]
        }
      ]
    },
    {
      "cell_type": "markdown",
      "source": [
        "Основная гипотеза: возраст покупателя и его оценка товара не связаны\n",
        "\n",
        "Альтернаятивна гипотеза: возраст покупателя и его оценка товара связаны\n",
        "\n",
        "Уровень значимости: 0,05"
      ],
      "metadata": {
        "id": "j8lUqFJNcoXR"
      }
    },
    {
      "cell_type": "code",
      "source": [
        "#Высчитываем корреляцию и p value\n",
        "correlation, p_value = pearsonr(df['Age'], df['Review Rating'])\n",
        "\n",
        "print(f'Значение корреляции Пирсона:{correlation}, p value: {p_value}')\n",
        "\n",
        "#Интерпретация результата\n",
        "if p_value > 0.05:\n",
        "    print(\n",
        "        \"На урвоне значимости 0.05 мы не можем отвергнуть нулевую гипотезу, \"\n",
        "        \"мы не можем утверждать, что возраст покупателя и его оценка товара связаны\"\n",
        "    )\n",
        "else:\n",
        "    print(\n",
        "        \"Нулевая гипотеза отвергается в пользу альтернативной, \"\n",
        "        \"связь между возрастом и его оценкой товара есть \"\n",
        "        \"на урвоне значимости 0.05\"\n",
        "    )"
      ],
      "metadata": {
        "colab": {
          "base_uri": "https://localhost:8080/"
        },
        "id": "UDzzht3BnQyD",
        "outputId": "95be4a36-bcf5-48b1-df4b-0b71ac844a37"
      },
      "execution_count": 12,
      "outputs": [
        {
          "output_type": "stream",
          "name": "stdout",
          "text": [
            "Значение корреляции Пирсона:-0.021949148075933275, p value: 0.17054661545044403\n",
            "На урвоне значимости 0.05 мы не можем отвергнуть нулевую гипотезу, мы не можем утверждать, что возраст покупателя и его оценка товара связаны\n"
          ]
        }
      ]
    },
    {
      "cell_type": "markdown",
      "metadata": {
        "id": "eroKl0z4b1lQ"
      },
      "source": [
        "#Задание 1.2"
      ]
    },
    {
      "cell_type": "markdown",
      "metadata": {
        "id": "qgJt9c0gb1lQ"
      },
      "source": [
        "Помимо гипотез:\n",
        "* найдите самый популярный товар\n",
        "* постройте распределение покупателей по полу\n",
        "* определите, какой пол (и отдельно возраст) покупает больше всего, чаще всего, самые дорогие товары\n",
        "* определите, есть ли зависимость между цветом одежды и сезоном.\n",
        "* посчитайте наш сезонный mau (уникальных пользователей за сезон) и его динамику.\n",
        "* найдите самую популярную букву в названии одежды."
      ]
    },
    {
      "cell_type": "markdown",
      "source": [
        "##Найдите самый популярный товар"
      ],
      "metadata": {
        "id": "jw_hDWjSlcOC"
      }
    },
    {
      "cell_type": "code",
      "source": [
        "\n",
        "df_value_counts = df['Item Purchased'].value_counts()\n",
        "max_frequency = max(df_value_counts)\n",
        "most_popular_values = df_value_counts[df_value_counts == max_frequency]\n",
        "print(f'Самые популярные товары: {most_popular_values}')\n"
      ],
      "metadata": {
        "colab": {
          "base_uri": "https://localhost:8080/"
        },
        "id": "b_dKAJ26dFeO",
        "outputId": "84f01476-a8e2-423f-efa6-8a535b100b27"
      },
      "execution_count": 13,
      "outputs": [
        {
          "output_type": "stream",
          "name": "stdout",
          "text": [
            "Самые популярные товары: Item Purchased\n",
            "Blouse     171\n",
            "Jewelry    171\n",
            "Pants      171\n",
            "Name: count, dtype: int64\n"
          ]
        }
      ]
    },
    {
      "cell_type": "markdown",
      "source": [
        "##Постройте распределение покупателей по полу"
      ],
      "metadata": {
        "id": "ILklkOEf48P9"
      }
    },
    {
      "cell_type": "code",
      "source": [
        "\n",
        "gender_values = df['Gender'].value_counts().values\n",
        "gender_labels = df['Gender'].value_counts().index\n",
        "\n",
        "colors = sns.color_palette('pastel')\n",
        "plt.pie(x=gender_values, labels=gender_labels, autopct='%1.0f%%', colors=colors)\n",
        "plt.title(\"Распределение покупателей по полу\")\n",
        "plt.show()"
      ],
      "metadata": {
        "colab": {
          "base_uri": "https://localhost:8080/",
          "height": 428
        },
        "id": "j2DsLBiOgRF0",
        "outputId": "46c5f38f-4b00-4fa9-e6cb-a83c1aa01cc8"
      },
      "execution_count": 14,
      "outputs": [
        {
          "output_type": "display_data",
          "data": {
            "text/plain": [
              "<Figure size 640x480 with 1 Axes>"
            ],
            "image/png": "[encoded data removed]"
          },
          "metadata": {}
        }
      ]
    },
    {
      "cell_type": "markdown",
      "source": [
        "##Определите, какой пол (и отдельно возраст) покупает больше всего, чаще всего, самые дорогие товары"
      ],
      "metadata": {
        "id": "iQ-ytwzg4_Rw"
      }
    },
    {
      "cell_type": "markdown",
      "source": [
        "###Определите, какой пол (и отдельно возраст) покупает больше всего"
      ],
      "metadata": {
        "id": "f2Ils9c05K5k"
      }
    },
    {
      "cell_type": "markdown",
      "source": [],
      "metadata": {
        "id": "CPt3nn3P5VWa"
      }
    },
    {
      "cell_type": "code",
      "source": [
        "gender_purchase_amount = df['Gender'].mode()\n",
        "age_purchase_amount = df['Age'].mode()\n",
        "\n",
        "\n",
        "print(f'Больше всего покупают люди с полом: {gender_purchase_amount.values}')\n",
        "print(f'Больше всего покупают люди с возрастом: {age_purchase_amount.values}')\n"
      ],
      "metadata": {
        "colab": {
          "base_uri": "https://localhost:8080/"
        },
        "id": "oUFyL9Gqla9-",
        "outputId": "06504fbb-0af8-4e57-85fb-ca8818180c3d"
      },
      "execution_count": 15,
      "outputs": [
        {
          "output_type": "stream",
          "name": "stdout",
          "text": [
            "Больше всего покупают люди с полом: ['Male']\n",
            "Больше всего покупают люди с возрастом: [69]\n"
          ]
        }
      ]
    },
    {
      "cell_type": "markdown",
      "source": [
        "###Определите, какой пол покупает чаще всего"
      ],
      "metadata": {
        "id": "TlI_qfDr5XJF"
      }
    },
    {
      "cell_type": "code",
      "source": [
        "\n",
        "frequency_map = {\n",
        "    'Weekly': 52,          # Раз в неделю, 52 раза в год\n",
        "    'Bi-Weekly': 104,      # Два раза в неделю, 104 раза в год\n",
        "    'Fortnightly': 26,     # Раз в две недели, 26 раз в год\n",
        "    'Monthly': 12,         # Раз в месяц, 12 раз в год\n",
        "    'Quarterly': 4,        # Раз в квартал, 4 раза в год\n",
        "    'Every 3 Months': 4,   # Раз в 3 месяца (эквивалент Quarterly), 4 раза в год\n",
        "    'Annually': 1          # Раз в год, 1 раз в год\n",
        "}\n",
        "\n",
        "#Сброс индексов\n",
        "grouped_counts = (\n",
        "      df.groupby(\"Gender\")['Frequency of Purchases']\n",
        "      .value_counts()\n",
        "      .reset_index(name='Counts')\n",
        ")\n",
        "\n",
        "#Новый столбец, где преобразуем значения Frequency of Purchases' в числа\n",
        "grouped_counts['Value_of_frequency'] = (\n",
        "    grouped_counts['Frequency of Purchases']\n",
        "    .map(frequency_map)\n",
        ")\n",
        "\n",
        "#Умножаем столбцы 'Counts' и 'Value_of_frequency', получаем общее количество покупок\n",
        "grouped_counts['Total_purchases'] = (\n",
        "    grouped_counts['Value_of_frequency']\n",
        "    * grouped_counts['Counts']\n",
        ")\n",
        "\n",
        "#Суммируем покупки по полу\n",
        "grouped_counts_by_gender = grouped_counts.groupby('Gender')['Total_purchases'].sum()\n",
        "\n",
        "#Считаем количество записей по полу\n",
        "purchase_by_gender = df['Gender'].value_counts()\n",
        "\n",
        "#Делим расчетную частоту на количество записей, чтобы получить\n",
        "#нормальзованную частоту по  полу\n",
        "normalized_purchases_by_gender = grouped_counts_by_gender / purchase_by_gender\n",
        "\n",
        "#Выводим пол, который чаще совершал покупки\n",
        "print(normalized_purchases_by_gender.idxmax())"
      ],
      "metadata": {
        "colab": {
          "base_uri": "https://localhost:8080/"
        },
        "id": "dqvnt-g18agh",
        "outputId": "743fcc20-89c6-4e23-9e36-e64c57335f29"
      },
      "execution_count": 16,
      "outputs": [
        {
          "output_type": "stream",
          "name": "stdout",
          "text": [
            "Female\n"
          ]
        }
      ]
    },
    {
      "cell_type": "markdown",
      "source": [
        "###Определите люди какого возраста покупают чаще всего"
      ],
      "metadata": {
        "id": "ZHJ7I8a65czD"
      }
    },
    {
      "cell_type": "code",
      "source": [
        "#определите люди какого возраста покупают чаще всего\n",
        "\n",
        "frequency_map = {\n",
        "    'Weekly': 52,          # Раз в неделю, 52 раза в год\n",
        "    'Bi-Weekly': 104,      # Два раза в неделю, 104 раза в год\n",
        "    'Fortnightly': 26,     # Раз в две недели, 26 раз в год\n",
        "    'Monthly': 12,         # Раз в месяц, 12 раз в год\n",
        "    'Quarterly': 4,        # Раз в квартал, 4 раза в год\n",
        "    'Every 3 Months': 4,   # Раз в 3 месяца (эквивалент Quarterly), 4 раза в год\n",
        "    'Annually': 1          # Раз в год, 1 раз в год\n",
        "}\n",
        "\n",
        "#Сброс индексов\n",
        "grouped_counts = (\n",
        "      df.groupby(\"Age\")['Frequency of Purchases']\n",
        "      .value_counts()\n",
        "      .reset_index(name='Counts')\n",
        ")\n",
        "\n",
        "#Новый столбец, где преобразуем значения Frequency of Purchases' в числа\n",
        "grouped_counts['Value_of_frequency'] = (\n",
        "    grouped_counts['Frequency of Purchases']\n",
        "    .map(frequency_map)\n",
        ")\n",
        "\n",
        "#Умножаем столбцы 'Counts' и 'Value_of_frequency', получаем общее количество покупок\n",
        "grouped_counts['Total_purchases'] = (\n",
        "    grouped_counts['Value_of_frequency']\n",
        "    * grouped_counts['Counts']\n",
        ")\n",
        "\n",
        "#Суммируем покупки по возрасту\n",
        "grouped_counts_by_gender = grouped_counts.groupby('Age')['Total_purchases'].sum()\n",
        "\n",
        "#Считаем количество записей по возрасту\n",
        "purchase_by_gender = df['Age'].value_counts()\n",
        "\n",
        "#Делим расчетную частоту на количество записей, чтобы получить\n",
        "#нормальзованную частоту по  возрасту\n",
        "normalized_purchases_by_gender = grouped_counts_by_gender / purchase_by_gender\n",
        "\n",
        "#Выводим возраст людей, которые чаще совершал покупки\n",
        "print(normalized_purchases_by_gender.idxmax())"
      ],
      "metadata": {
        "colab": {
          "base_uri": "https://localhost:8080/"
        },
        "id": "DmNEvxHiFGfW",
        "outputId": "56faa954-a7e7-4213-8d47-d937402bce35"
      },
      "execution_count": 17,
      "outputs": [
        {
          "output_type": "stream",
          "name": "stdout",
          "text": [
            "26\n"
          ]
        }
      ]
    },
    {
      "cell_type": "markdown",
      "source": [
        "###Определите, какой пол (и отдельно возраст) покупает самые дорогие товары"
      ],
      "metadata": {
        "id": "HNGTyzPS5jMP"
      }
    },
    {
      "cell_type": "code",
      "source": [
        "# Группируем по полу и для каждого возраста находим макс цену покупки\n",
        "max_purchase_by_gender = df.groupby(\"Gender\")['Purchase Amount (USD)'].max()\n",
        "\n",
        "# Группируем по возрасту и для каждого возраста находим макс цену покупки\n",
        "max_purchase_by_age = df.groupby(\"Age\")['Purchase Amount (USD)'].max()\n",
        "\n",
        "# Пол с самой дорогой покупкой\n",
        "max_gender_purchase = max_purchase_by_gender.idxmax()\n",
        "max_gender_value = max_purchase_by_gender.max()\n",
        "\n",
        "\n",
        "# Возраст с самой дорогой покупкой\n",
        "max_age_purchase = max_purchase_by_age.idxmax()\n",
        "max_age_value = max_purchase_by_age.max()\n",
        "\n",
        "print(f\"Пол, покупающий самые дорогие товары: {max_gender_purchase} (с суммой {max_gender_value} USD)\")\n",
        "print(f\"Возраст, покупающий самые дорогие товары: {max_age_purchase} (с суммой {max_age_value} USD)\")\n"
      ],
      "metadata": {
        "colab": {
          "base_uri": "https://localhost:8080/"
        },
        "id": "cbE7WmhBGK-3",
        "outputId": "617ead2e-13fe-4d81-9a4b-d16d6f860f5d"
      },
      "execution_count": 18,
      "outputs": [
        {
          "output_type": "stream",
          "name": "stdout",
          "text": [
            "Пол, покупающий самые дорогие товары: Female (с суммой 100 USD)\n",
            "Возраст, покупающий самые дорогие товары: 18 (с суммой 100 USD)\n"
          ]
        }
      ]
    },
    {
      "cell_type": "markdown",
      "source": [
        "##Определите, есть ли зависимость между цветом одежды и сезоном."
      ],
      "metadata": {
        "id": "FM8puOuA5oXR"
      }
    },
    {
      "cell_type": "code",
      "source": [
        "# Создаем таблицу сопряженности\n",
        "contingency_table = pd.crosstab(df['Season'], df['Color'])\n",
        "\n",
        "# Тепловая карта\n",
        "plt.figure(figsize=(8, 6))\n",
        "sns.heatmap(contingency_table, annot=True, fmt=\"d\", cmap=\"YlGnBu\")\n",
        "plt.title(\"Тепловая карта зависимости цвета одежды от сезона\")\n",
        "plt.show()"
      ],
      "metadata": {
        "colab": {
          "base_uri": "https://localhost:8080/",
          "height": 616
        },
        "id": "7y_EGEhaqaDs",
        "outputId": "02534d2c-6c24-4a34-9a6f-a1a7497dc21c"
      },
      "execution_count": 19,
      "outputs": [
        {
          "output_type": "display_data",
          "data": {
            "text/plain": [
              "<Figure size 800x600 with 2 Axes>"
            ],
            "image/png": "[encoded data removed]"
          },
          "metadata": {}
        }
      ]
    },
    {
      "cell_type": "markdown",
      "source": [
        "На тепловой карте не видно определенных зависимостей"
      ],
      "metadata": {
        "id": "Wu5sB6LCq2XI"
      }
    },
    {
      "cell_type": "code",
      "source": [
        "# Примененяем критерий хи-квадрат\n",
        "chi2, p, dof, expected = chi2_contingency(contingency_table)\n",
        "\n",
        "# Результаты\n",
        "print(\"Хи-квадрат:\", chi2)\n",
        "print(\"p-value:\", p)\n",
        "\n",
        "# Вывод\n",
        "if p <= 0.05:\n",
        "    print(\"Между цветом одежды и сезоном есть статистически значимая зависимость.\")\n",
        "else:\n",
        "    print(\"Зависимости между цветом одежды и сезоном не обнаружено.\")\n",
        "\n"
      ],
      "metadata": {
        "colab": {
          "base_uri": "https://localhost:8080/"
        },
        "id": "EW87FKeXoLha",
        "outputId": "64d87b9b-2530-49cb-ab29-9a9fd3a551c6"
      },
      "execution_count": 20,
      "outputs": [
        {
          "output_type": "stream",
          "name": "stdout",
          "text": [
            "Хи-квадрат: 64.6506366841786\n",
            "p-value: 0.718551112120402\n",
            "Зависимости между цветом одежды и сезоном не обнаружено.\n"
          ]
        }
      ]
    },
    {
      "cell_type": "markdown",
      "source": [
        "##Посчитайте наш сезонный mau (уникальных пользователей за сезон) и его динамику."
      ],
      "metadata": {
        "id": "pZMOF6zm50gC"
      }
    },
    {
      "cell_type": "code",
      "source": [
        "#Выситываем mau для каждого сезона\n",
        "seasonal_mau = df.groupby('Season')['Customer ID'].nunique().reset_index()\n",
        "\n",
        "seasonal_mau_columns = ['Season', 'mau']\n",
        "seasonal_mau.columns = seasonal_mau_columns\n",
        "\n",
        "#Организуем порядок сезонов\n",
        "season_order = ['Winter', 'Spring', 'Summer', 'Fall']\n",
        "seasonal_mau['Season'] = pd.Categorical(seasonal_mau['Season'], categories=season_order, ordered=True)\n",
        "seasonal_mau = seasonal_mau.sort_values('Season')\n",
        "\n",
        "#Высчитываем процентное изменение mau\n",
        "seasonal_mau['mau_change'] = seasonal_mau['mau'].pct_change()*100\n",
        "print(seasonal_mau)"
      ],
      "metadata": {
        "colab": {
          "base_uri": "https://localhost:8080/"
        },
        "id": "HEEv-apYxWxI",
        "outputId": "3f9de7d0-89f5-4f2b-afbe-cd8ad7a51806"
      },
      "execution_count": 21,
      "outputs": [
        {
          "output_type": "stream",
          "name": "stdout",
          "text": [
            "   Season  mau  mau_change\n",
            "3  Winter  971         NaN\n",
            "1  Spring  999    2.883625\n",
            "2  Summer  955   -4.404404\n",
            "0    Fall  975    2.094241\n"
          ]
        }
      ]
    },
    {
      "cell_type": "code",
      "source": [
        "sns.set(style=\"whitegrid\")\n",
        "\n",
        "# Создаём график для MAU\n",
        "plt.figure(figsize=(10, 6))\n",
        "\n",
        "# Линия для MAU по сезонам\n",
        "plt.plot(seasonal_mau['Season'], seasonal_mau['mau'], marker='o', color='b', label='MAU')\n",
        "\n",
        "#Оформление\n",
        "plt.title('Сезонный MAU (Уникальные пользователи)', fontsize=14)\n",
        "plt.xlabel('Сезон', fontsize=12)\n",
        "plt.ylabel('Количество уникальных пользователей', fontsize=12)\n",
        "plt.xticks(rotation=45)\n",
        "plt.legend()\n",
        "plt.tight_layout()\n",
        "\n",
        "plt.show()"
      ],
      "metadata": {
        "colab": {
          "base_uri": "https://localhost:8080/",
          "height": 601
        },
        "id": "WkJ5IDRVxY-s",
        "outputId": "1f589fa3-e0bf-4f90-a271-01520d71ba42"
      },
      "execution_count": 22,
      "outputs": [
        {
          "output_type": "display_data",
          "data": {
            "text/plain": [
              "<Figure size 1000x600 with 1 Axes>"
            ],
            "image/png": "[encoded data removed]"
          },
          "metadata": {}
        }
      ]
    },
    {
      "cell_type": "code",
      "source": [
        "# Создаём график для изменения MAU\n",
        "plt.figure(figsize=(10, 6))\n",
        "\n",
        "# Линия для динамики изменений MAU в процентах\n",
        "plt.plot(seasonal_mau['Season'], seasonal_mau['mau_change'], marker='o', color='g', label='Изменение MAU (%)')\n",
        "\n",
        "#Оформление\n",
        "plt.title('Динамика изменений сезонного MAU', fontsize=14)\n",
        "plt.xlabel('Сезон', fontsize=12)\n",
        "plt.ylabel('Изменение MAU (%)', fontsize=12)\n",
        "plt.xticks(rotation=45)\n",
        "plt.legend()\n",
        "plt.tight_layout()\n",
        "\n",
        "plt.show()"
      ],
      "metadata": {
        "colab": {
          "base_uri": "https://localhost:8080/",
          "height": 601
        },
        "id": "Def6mZU0xbFx",
        "outputId": "92b9f7a3-3619-4874-b9f6-46f6c06fa3d8"
      },
      "execution_count": 23,
      "outputs": [
        {
          "output_type": "display_data",
          "data": {
            "text/plain": [
              "<Figure size 1000x600 with 1 Axes>"
            ],
            "image/png": "[encoded data removed]"
          },
          "metadata": {}
        }
      ]
    },
    {
      "cell_type": "markdown",
      "source": [
        "##Найдите самую популярную букву в названии одежды."
      ],
      "metadata": {
        "id": "Fq79A5qq56IN"
      }
    },
    {
      "cell_type": "code",
      "source": [
        "# Объединяем все названия из категории одежда в одну строку\n",
        "all_letters = ''.join(df[df['Category'] == 'Clothing']['Item Purchased'])\\\n",
        "                .replace(' ', '').lower()\n",
        "\n",
        "# Подсчитываем частоты букв\n",
        "letter_counts = Counter(all_letters)\n",
        "\n",
        "# Самая популярная буква\n",
        "most_common_letter = letter_counts.most_common(1)[0]\n",
        "\n",
        "print(f\"Самая популярная буква: '{most_common_letter[0]}', встречается {most_common_letter[1]} раз.\")\n"
      ],
      "metadata": {
        "colab": {
          "base_uri": "https://localhost:8080/"
        },
        "id": "mv8EjXIz2ehl",
        "outputId": "d45a88f7-83c8-427b-f65d-2b93c14dbd01"
      },
      "execution_count": 24,
      "outputs": [
        {
          "output_type": "stream",
          "name": "stdout",
          "text": [
            "Самая популярная буква: 's', встречается 2068 раз.\n"
          ]
        }
      ]
    }
  ],
  "metadata": {
    "kernelspec": {
      "display_name": "Python 3 (ipykernel)",
      "language": "python",
      "name": "python3"
    },
    "language_info": {
      "codemirror_mode": {
        "name": "ipython",
        "version": 3
      },
      "file_extension": ".py",
      "mimetype": "text/x-python",
      "name": "python",
      "nbconvert_exporter": "python",
      "pygments_lexer": "ipython3",
      "version": "3.11.5"
    },
    "colab": {
      "provenance": []
    }
  },
  "nbformat": 4,
  "nbformat_minor": 0
}