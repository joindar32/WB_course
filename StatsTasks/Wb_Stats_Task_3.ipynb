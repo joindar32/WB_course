{
  "nbformat": 4,
  "nbformat_minor": 0,
  "metadata": {
    "colab": {
      "provenance": []
    },
    "kernelspec": {
      "name": "python3",
      "display_name": "Python 3"
    },
    "language_info": {
      "name": "python"
    }
  },
  "cells": [
    {
      "cell_type": "code",
      "execution_count": null,
      "metadata": {
        "id": "v3-A3Gjo6k2U"
      },
      "outputs": [],
      "source": [
        "import numpy as np\n",
        "import pandas as pd\n",
        "import matplotlib.pyplot as plt\n",
        "import seaborn as sns\n",
        "import scipy"
      ]
    },
    {
      "cell_type": "code",
      "source": [
        "data = pd.read_csv('experiment_lesson_4.csv')\n",
        "df = data.copy()"
      ],
      "metadata": {
        "id": "FgVRKzeN7Zf8"
      },
      "execution_count": null,
      "outputs": []
    },
    {
      "cell_type": "code",
      "source": [
        "df.head(10)"
      ],
      "metadata": {
        "colab": {
          "base_uri": "https://localhost:8080/",
          "height": 363
        },
        "id": "gG7V-T467gG8",
        "outputId": "e4fc30e4-70f0-4733-9dc9-8b9f92f2fced"
      },
      "execution_count": null,
      "outputs": [
        {
          "output_type": "execute_result",
          "data": {
            "text/plain": [
              "   order_id  delivery_time  district experiment_group\n",
              "0      3159           44.0  Purlieus          control\n",
              "1     10426           51.0  Purlieus          control\n",
              "2      9155           46.0  Purlieus          control\n",
              "3     10699           34.0  Purlieus          control\n",
              "4     10061           43.0  Purlieus          control\n",
              "5      5535           38.0  Purlieus          control\n",
              "6      5793           43.0  Purlieus          control\n",
              "7      3756           36.0  Purlieus          control\n",
              "8      3394           57.0  Purlieus          control\n",
              "9      1937           48.0  Purlieus          control"
            ],
            "text/html": [
              "\n",
              "  <div id=\"df-2e5a6d5a-cda3-45ef-9bd8-4f5c5b1a2cf6\" class=\"colab-df-container\">\n",
              "    <div>\n",
              "<style scoped>\n",
              "    .dataframe tbody tr th:only-of-type {\n",
              "        vertical-align: middle;\n",
              "    }\n",
              "\n",
              "    .dataframe tbody tr th {\n",
              "        vertical-align: top;\n",
              "    }\n",
              "\n",
              "    .dataframe thead th {\n",
              "        text-align: right;\n",
              "    }\n",
              "</style>\n",
              "<table border=\"1\" class=\"dataframe\">\n",
              "  <thead>\n",
              "    <tr style=\"text-align: right;\">\n",
              "      <th></th>\n",
              "      <th>order_id</th>\n",
              "      <th>delivery_time</th>\n",
              "      <th>district</th>\n",
              "      <th>experiment_group</th>\n",
              "    </tr>\n",
              "  </thead>\n",
              "  <tbody>\n",
              "    <tr>\n",
              "      <th>0</th>\n",
              "      <td>3159</td>\n",
              "      <td>44.0</td>\n",
              "      <td>Purlieus</td>\n",
              "      <td>control</td>\n",
              "    </tr>\n",
              "    <tr>\n",
              "      <th>1</th>\n",
              "      <td>10426</td>\n",
              "      <td>51.0</td>\n",
              "      <td>Purlieus</td>\n",
              "      <td>control</td>\n",
              "    </tr>\n",
              "    <tr>\n",
              "      <th>2</th>\n",
              "      <td>9155</td>\n",
              "      <td>46.0</td>\n",
              "      <td>Purlieus</td>\n",
              "      <td>control</td>\n",
              "    </tr>\n",
              "    <tr>\n",
              "      <th>3</th>\n",
              "      <td>10699</td>\n",
              "      <td>34.0</td>\n",
              "      <td>Purlieus</td>\n",
              "      <td>control</td>\n",
              "    </tr>\n",
              "    <tr>\n",
              "      <th>4</th>\n",
              "      <td>10061</td>\n",
              "      <td>43.0</td>\n",
              "      <td>Purlieus</td>\n",
              "      <td>control</td>\n",
              "    </tr>\n",
              "    <tr>\n",
              "      <th>5</th>\n",
              "      <td>5535</td>\n",
              "      <td>38.0</td>\n",
              "      <td>Purlieus</td>\n",
              "      <td>control</td>\n",
              "    </tr>\n",
              "    <tr>\n",
              "      <th>6</th>\n",
              "      <td>5793</td>\n",
              "      <td>43.0</td>\n",
              "      <td>Purlieus</td>\n",
              "      <td>control</td>\n",
              "    </tr>\n",
              "    <tr>\n",
              "      <th>7</th>\n",
              "      <td>3756</td>\n",
              "      <td>36.0</td>\n",
              "      <td>Purlieus</td>\n",
              "      <td>control</td>\n",
              "    </tr>\n",
              "    <tr>\n",
              "      <th>8</th>\n",
              "      <td>3394</td>\n",
              "      <td>57.0</td>\n",
              "      <td>Purlieus</td>\n",
              "      <td>control</td>\n",
              "    </tr>\n",
              "    <tr>\n",
              "      <th>9</th>\n",
              "      <td>1937</td>\n",
              "      <td>48.0</td>\n",
              "      <td>Purlieus</td>\n",
              "      <td>control</td>\n",
              "    </tr>\n",
              "  </tbody>\n",
              "</table>\n",
              "</div>\n",
              "    <div class=\"colab-df-buttons\">\n",
              "\n",
              "  <div class=\"colab-df-container\">\n",
              "    <button class=\"colab-df-convert\" onclick=\"convertToInteractive('df-2e5a6d5a-cda3-45ef-9bd8-4f5c5b1a2cf6')\"\n",
              "            title=\"Convert this dataframe to an interactive table.\"\n",
              "            style=\"display:none;\">\n",
              "\n",
              "  <svg xmlns=\"http://www.w3.org/2000/svg\" height=\"24px\" viewBox=\"0 -960 960 960\">\n",
              "    <path d=\"M120-120v-720h720v720H120Zm60-500h600v-160H180v160Zm220 220h160v-160H400v160Zm0 220h160v-160H400v160ZM180-400h160v-160H180v160Zm440 0h160v-160H620v160ZM180-180h160v-160H180v160Zm440 0h160v-160H620v160Z\"/>\n",
              "  </svg>\n",
              "    </button>\n",
              "\n",
              "  <style>\n",
              "    .colab-df-container {\n",
              "      display:flex;\n",
              "      gap: 12px;\n",
              "    }\n",
              "\n",
              "    .colab-df-convert {\n",
              "      background-color: #E8F0FE;\n",
              "      border: none;\n",
              "      border-radius: 50%;\n",
              "      cursor: pointer;\n",
              "      display: none;\n",
              "      fill: #1967D2;\n",
              "      height: 32px;\n",
              "      padding: 0 0 0 0;\n",
              "      width: 32px;\n",
              "    }\n",
              "\n",
              "    .colab-df-convert:hover {\n",
              "      background-color: #E2EBFA;\n",
              "      box-shadow: 0px 1px 2px rgba(60, 64, 67, 0.3), 0px 1px 3px 1px rgba(60, 64, 67, 0.15);\n",
              "      fill: #174EA6;\n",
              "    }\n",
              "\n",
              "    .colab-df-buttons div {\n",
              "      margin-bottom: 4px;\n",
              "    }\n",
              "\n",
              "    [theme=dark] .colab-df-convert {\n",
              "      background-color: #3B4455;\n",
              "      fill: #D2E3FC;\n",
              "    }\n",
              "\n",
              "    [theme=dark] .colab-df-convert:hover {\n",
              "      background-color: #434B5C;\n",
              "      box-shadow: 0px 1px 3px 1px rgba(0, 0, 0, 0.15);\n",
              "      filter: drop-shadow(0px 1px 2px rgba(0, 0, 0, 0.3));\n",
              "      fill: #FFFFFF;\n",
              "    }\n",
              "  </style>\n",
              "\n",
              "    <script>\n",
              "      const buttonEl =\n",
              "        document.querySelector('#df-2e5a6d5a-cda3-45ef-9bd8-4f5c5b1a2cf6 button.colab-df-convert');\n",
              "      buttonEl.style.display =\n",
              "        google.colab.kernel.accessAllowed ? 'block' : 'none';\n",
              "\n",
              "      async function convertToInteractive(key) {\n",
              "        const element = document.querySelector('#df-2e5a6d5a-cda3-45ef-9bd8-4f5c5b1a2cf6');\n",
              "        const dataTable =\n",
              "          await google.colab.kernel.invokeFunction('convertToInteractive',\n",
              "                                                    [key], {});\n",
              "        if (!dataTable) return;\n",
              "\n",
              "        const docLinkHtml = 'Like what you see? Visit the ' +\n",
              "          '<a target=\"_blank\" href=https://colab.research.google.com/notebooks/data_table.ipynb>data table notebook</a>'\n",
              "          + ' to learn more about interactive tables.';\n",
              "        element.innerHTML = '';\n",
              "        dataTable['output_type'] = 'display_data';\n",
              "        await google.colab.output.renderOutput(dataTable, element);\n",
              "        const docLink = document.createElement('div');\n",
              "        docLink.innerHTML = docLinkHtml;\n",
              "        element.appendChild(docLink);\n",
              "      }\n",
              "    </script>\n",
              "  </div>\n",
              "\n",
              "\n",
              "<div id=\"df-6d3a85d4-ebdc-40b7-ac31-078f07c63e48\">\n",
              "  <button class=\"colab-df-quickchart\" onclick=\"quickchart('df-6d3a85d4-ebdc-40b7-ac31-078f07c63e48')\"\n",
              "            title=\"Suggest charts\"\n",
              "            style=\"display:none;\">\n",
              "\n",
              "<svg xmlns=\"http://www.w3.org/2000/svg\" height=\"24px\"viewBox=\"0 0 24 24\"\n",
              "     width=\"24px\">\n",
              "    <g>\n",
              "        <path d=\"M19 3H5c-1.1 0-2 .9-2 2v14c0 1.1.9 2 2 2h14c1.1 0 2-.9 2-2V5c0-1.1-.9-2-2-2zM9 17H7v-7h2v7zm4 0h-2V7h2v10zm4 0h-2v-4h2v4z\"/>\n",
              "    </g>\n",
              "</svg>\n",
              "  </button>\n",
              "\n",
              "<style>\n",
              "  .colab-df-quickchart {\n",
              "      --bg-color: #E8F0FE;\n",
              "      --fill-color: #1967D2;\n",
              "      --hover-bg-color: #E2EBFA;\n",
              "      --hover-fill-color: #174EA6;\n",
              "      --disabled-fill-color: #AAA;\n",
              "      --disabled-bg-color: #DDD;\n",
              "  }\n",
              "\n",
              "  [theme=dark] .colab-df-quickchart {\n",
              "      --bg-color: #3B4455;\n",
              "      --fill-color: #D2E3FC;\n",
              "      --hover-bg-color: #434B5C;\n",
              "      --hover-fill-color: #FFFFFF;\n",
              "      --disabled-bg-color: #3B4455;\n",
              "      --disabled-fill-color: #666;\n",
              "  }\n",
              "\n",
              "  .colab-df-quickchart {\n",
              "    background-color: var(--bg-color);\n",
              "    border: none;\n",
              "    border-radius: 50%;\n",
              "    cursor: pointer;\n",
              "    display: none;\n",
              "    fill: var(--fill-color);\n",
              "    height: 32px;\n",
              "    padding: 0;\n",
              "    width: 32px;\n",
              "  }\n",
              "\n",
              "  .colab-df-quickchart:hover {\n",
              "    background-color: var(--hover-bg-color);\n",
              "    box-shadow: 0 1px 2px rgba(60, 64, 67, 0.3), 0 1px 3px 1px rgba(60, 64, 67, 0.15);\n",
              "    fill: var(--button-hover-fill-color);\n",
              "  }\n",
              "\n",
              "  .colab-df-quickchart-complete:disabled,\n",
              "  .colab-df-quickchart-complete:disabled:hover {\n",
              "    background-color: var(--disabled-bg-color);\n",
              "    fill: var(--disabled-fill-color);\n",
              "    box-shadow: none;\n",
              "  }\n",
              "\n",
              "  .colab-df-spinner {\n",
              "    border: 2px solid var(--fill-color);\n",
              "    border-color: transparent;\n",
              "    border-bottom-color: var(--fill-color);\n",
              "    animation:\n",
              "      spin 1s steps(1) infinite;\n",
              "  }\n",
              "\n",
              "  @keyframes spin {\n",
              "    0% {\n",
              "      border-color: transparent;\n",
              "      border-bottom-color: var(--fill-color);\n",
              "      border-left-color: var(--fill-color);\n",
              "    }\n",
              "    20% {\n",
              "      border-color: transparent;\n",
              "      border-left-color: var(--fill-color);\n",
              "      border-top-color: var(--fill-color);\n",
              "    }\n",
              "    30% {\n",
              "      border-color: transparent;\n",
              "      border-left-color: var(--fill-color);\n",
              "      border-top-color: var(--fill-color);\n",
              "      border-right-color: var(--fill-color);\n",
              "    }\n",
              "    40% {\n",
              "      border-color: transparent;\n",
              "      border-right-color: var(--fill-color);\n",
              "      border-top-color: var(--fill-color);\n",
              "    }\n",
              "    60% {\n",
              "      border-color: transparent;\n",
              "      border-right-color: var(--fill-color);\n",
              "    }\n",
              "    80% {\n",
              "      border-color: transparent;\n",
              "      border-right-color: var(--fill-color);\n",
              "      border-bottom-color: var(--fill-color);\n",
              "    }\n",
              "    90% {\n",
              "      border-color: transparent;\n",
              "      border-bottom-color: var(--fill-color);\n",
              "    }\n",
              "  }\n",
              "</style>\n",
              "\n",
              "  <script>\n",
              "    async function quickchart(key) {\n",
              "      const quickchartButtonEl =\n",
              "        document.querySelector('#' + key + ' button');\n",
              "      quickchartButtonEl.disabled = true;  // To prevent multiple clicks.\n",
              "      quickchartButtonEl.classList.add('colab-df-spinner');\n",
              "      try {\n",
              "        const charts = await google.colab.kernel.invokeFunction(\n",
              "            'suggestCharts', [key], {});\n",
              "      } catch (error) {\n",
              "        console.error('Error during call to suggestCharts:', error);\n",
              "      }\n",
              "      quickchartButtonEl.classList.remove('colab-df-spinner');\n",
              "      quickchartButtonEl.classList.add('colab-df-quickchart-complete');\n",
              "    }\n",
              "    (() => {\n",
              "      let quickchartButtonEl =\n",
              "        document.querySelector('#df-6d3a85d4-ebdc-40b7-ac31-078f07c63e48 button');\n",
              "      quickchartButtonEl.style.display =\n",
              "        google.colab.kernel.accessAllowed ? 'block' : 'none';\n",
              "    })();\n",
              "  </script>\n",
              "</div>\n",
              "    </div>\n",
              "  </div>\n"
            ],
            "application/vnd.google.colaboratory.intrinsic+json": {
              "type": "dataframe",
              "variable_name": "df",
              "summary": "{\n  \"name\": \"df\",\n  \"rows\": 20196,\n  \"fields\": [\n    {\n      \"column\": \"order_id\",\n      \"properties\": {\n        \"dtype\": \"number\",\n        \"std\": 5835,\n        \"min\": 1000,\n        \"max\": 21207,\n        \"num_unique_values\": 20196,\n        \"samples\": [\n          12767,\n          7033,\n          19094\n        ],\n        \"semantic_type\": \"\",\n        \"description\": \"\"\n      }\n    },\n    {\n      \"column\": \"delivery_time\",\n      \"properties\": {\n        \"dtype\": \"number\",\n        \"std\": 10.382195557688112,\n        \"min\": 10.0,\n        \"max\": 83.0,\n        \"num_unique_values\": 72,\n        \"samples\": [\n          43.0,\n          80.0,\n          58.0\n        ],\n        \"semantic_type\": \"\",\n        \"description\": \"\"\n      }\n    },\n    {\n      \"column\": \"district\",\n      \"properties\": {\n        \"dtype\": \"category\",\n        \"num_unique_values\": 3,\n        \"samples\": [\n          \"Purlieus\",\n          \"Central\",\n          \"Suburb\"\n        ],\n        \"semantic_type\": \"\",\n        \"description\": \"\"\n      }\n    },\n    {\n      \"column\": \"experiment_group\",\n      \"properties\": {\n        \"dtype\": \"category\",\n        \"num_unique_values\": 2,\n        \"samples\": [\n          \"test\",\n          \"control\"\n        ],\n        \"semantic_type\": \"\",\n        \"description\": \"\"\n      }\n    }\n  ]\n}"
            }
          },
          "metadata": {},
          "execution_count": 94
        }
      ]
    },
    {
      "cell_type": "code",
      "source": [
        "df.info()"
      ],
      "metadata": {
        "colab": {
          "base_uri": "https://localhost:8080/"
        },
        "id": "s3e1uBIE7igJ",
        "outputId": "262aac81-58fd-406c-de89-06cf1ea4d7d0"
      },
      "execution_count": null,
      "outputs": [
        {
          "output_type": "stream",
          "name": "stdout",
          "text": [
            "<class 'pandas.core.frame.DataFrame'>\n",
            "RangeIndex: 20196 entries, 0 to 20195\n",
            "Data columns (total 4 columns):\n",
            " #   Column            Non-Null Count  Dtype  \n",
            "---  ------            --------------  -----  \n",
            " 0   order_id          20196 non-null  int64  \n",
            " 1   delivery_time     20196 non-null  float64\n",
            " 2   district          20196 non-null  object \n",
            " 3   experiment_group  20196 non-null  object \n",
            "dtypes: float64(1), int64(1), object(2)\n",
            "memory usage: 631.2+ KB\n"
          ]
        }
      ]
    },
    {
      "cell_type": "code",
      "source": [
        "df.isnull().sum()"
      ],
      "metadata": {
        "colab": {
          "base_uri": "https://localhost:8080/",
          "height": 210
        },
        "id": "Gwg-D5JLIVI2",
        "outputId": "20556579-99b5-4fbd-ce65-fc3d01405ff3"
      },
      "execution_count": null,
      "outputs": [
        {
          "output_type": "execute_result",
          "data": {
            "text/plain": [
              "order_id            0\n",
              "delivery_time       0\n",
              "district            0\n",
              "experiment_group    0\n",
              "dtype: int64"
            ],
            "text/html": [
              "<div>\n",
              "<style scoped>\n",
              "    .dataframe tbody tr th:only-of-type {\n",
              "        vertical-align: middle;\n",
              "    }\n",
              "\n",
              "    .dataframe tbody tr th {\n",
              "        vertical-align: top;\n",
              "    }\n",
              "\n",
              "    .dataframe thead th {\n",
              "        text-align: right;\n",
              "    }\n",
              "</style>\n",
              "<table border=\"1\" class=\"dataframe\">\n",
              "  <thead>\n",
              "    <tr style=\"text-align: right;\">\n",
              "      <th></th>\n",
              "      <th>0</th>\n",
              "    </tr>\n",
              "  </thead>\n",
              "  <tbody>\n",
              "    <tr>\n",
              "      <th>order_id</th>\n",
              "      <td>0</td>\n",
              "    </tr>\n",
              "    <tr>\n",
              "      <th>delivery_time</th>\n",
              "      <td>0</td>\n",
              "    </tr>\n",
              "    <tr>\n",
              "      <th>district</th>\n",
              "      <td>0</td>\n",
              "    </tr>\n",
              "    <tr>\n",
              "      <th>experiment_group</th>\n",
              "      <td>0</td>\n",
              "    </tr>\n",
              "  </tbody>\n",
              "</table>\n",
              "</div><br><label><b>dtype:</b> int64</label>"
            ]
          },
          "metadata": {},
          "execution_count": 96
        }
      ]
    },
    {
      "cell_type": "code",
      "source": [
        "df['district'].value_counts()"
      ],
      "metadata": {
        "colab": {
          "base_uri": "https://localhost:8080/",
          "height": 210
        },
        "id": "7RTxU2Oy7rVf",
        "outputId": "a63ed2d9-538a-4f5b-ddb5-33f7657146b0"
      },
      "execution_count": null,
      "outputs": [
        {
          "output_type": "execute_result",
          "data": {
            "text/plain": [
              "district\n",
              "Purlieus    16960\n",
              "Central      2396\n",
              "Suburb        840\n",
              "Name: count, dtype: int64"
            ],
            "text/html": [
              "<div>\n",
              "<style scoped>\n",
              "    .dataframe tbody tr th:only-of-type {\n",
              "        vertical-align: middle;\n",
              "    }\n",
              "\n",
              "    .dataframe tbody tr th {\n",
              "        vertical-align: top;\n",
              "    }\n",
              "\n",
              "    .dataframe thead th {\n",
              "        text-align: right;\n",
              "    }\n",
              "</style>\n",
              "<table border=\"1\" class=\"dataframe\">\n",
              "  <thead>\n",
              "    <tr style=\"text-align: right;\">\n",
              "      <th></th>\n",
              "      <th>count</th>\n",
              "    </tr>\n",
              "    <tr>\n",
              "      <th>district</th>\n",
              "      <th></th>\n",
              "    </tr>\n",
              "  </thead>\n",
              "  <tbody>\n",
              "    <tr>\n",
              "      <th>Purlieus</th>\n",
              "      <td>16960</td>\n",
              "    </tr>\n",
              "    <tr>\n",
              "      <th>Central</th>\n",
              "      <td>2396</td>\n",
              "    </tr>\n",
              "    <tr>\n",
              "      <th>Suburb</th>\n",
              "      <td>840</td>\n",
              "    </tr>\n",
              "  </tbody>\n",
              "</table>\n",
              "</div><br><label><b>dtype:</b> int64</label>"
            ]
          },
          "metadata": {},
          "execution_count": 97
        }
      ]
    },
    {
      "cell_type": "markdown",
      "source": [
        "##Строим гистрограммы для тестовой и котрольной групп"
      ],
      "metadata": {
        "id": "qZgWGC6MEODA"
      }
    },
    {
      "cell_type": "code",
      "source": [
        "#Фильтруем записи по столбцу 'experiment_group'\n",
        "control_group = df[df['experiment_group'] == 'control']\n",
        "test_group = df[df['experiment_group'] == 'test']"
      ],
      "metadata": {
        "id": "TOzjwsKx8ool"
      },
      "execution_count": null,
      "outputs": []
    },
    {
      "cell_type": "code",
      "source": [
        "plt.hist(control_group['delivery_time'])\n",
        "plt.title('Control group time distr')\n",
        "plt.show()"
      ],
      "metadata": {
        "colab": {
          "base_uri": "https://localhost:8080/",
          "height": 452
        },
        "id": "xkbKTrFx9Biw",
        "outputId": "a83048c5-0df8-4748-f4fb-ff509cfc2a61"
      },
      "execution_count": null,
      "outputs": [
        {
          "output_type": "display_data",
          "data": {
            "text/plain": [
              "<Figure size 640x480 with 1 Axes>"
            ],
            "image/png": "[encoded data removed]"
          },
          "metadata": {}
        }
      ]
    },
    {
      "cell_type": "code",
      "source": [
        "plt.hist(test_group['delivery_time'])\n",
        "plt.title('Test group time distr')\n",
        "plt.show()"
      ],
      "metadata": {
        "colab": {
          "base_uri": "https://localhost:8080/",
          "height": 452
        },
        "id": "c34giVy39B7X",
        "outputId": "58032146-9ee7-48e3-916f-0c152dd6f5f3"
      },
      "execution_count": null,
      "outputs": [
        {
          "output_type": "display_data",
          "data": {
            "text/plain": [
              "<Figure size 640x480 with 1 Axes>"
            ],
            "image/png": "[encoded data removed]"
          },
          "metadata": {}
        }
      ]
    },
    {
      "cell_type": "code",
      "source": [
        "sns.histplot(control_group['delivery_time'], color='blue', kde=True, label='Контрольная группа', stat='density', bins=15)\n",
        "sns.histplot(test_group['delivery_time'], color='red', kde=True, label='Тестовая группа', stat='density', bins=15)\n",
        "\n",
        "plt.legend()\n",
        "plt.title(\"Гистограмма распределения времени доставки\")\n",
        "plt.xlabel(\"Время доставки (минуты)\")\n",
        "plt.ylabel(\"Плотность\")\n",
        "\n",
        "plt.show()"
      ],
      "metadata": {
        "colab": {
          "base_uri": "https://localhost:8080/",
          "height": 472
        },
        "id": "ZQpgxl0eC4V_",
        "outputId": "48cce63c-0dac-4c55-f16b-eac9e667a866"
      },
      "execution_count": null,
      "outputs": [
        {
          "output_type": "display_data",
          "data": {
            "text/plain": [
              "<Figure size 640x480 with 1 Axes>"
            ],
            "image/png": "[encoded data removed]"
          },
          "metadata": {}
        }
      ]
    },
    {
      "cell_type": "markdown",
      "source": [
        "##Максимумы по времени для групп"
      ],
      "metadata": {
        "id": "02vskTDsET6I"
      }
    },
    {
      "cell_type": "code",
      "source": [
        "max_control = control_group['delivery_time'].max()\n",
        "max_test = test_group['delivery_time'].max()\n",
        "\n",
        "print(f\"Максимум контрольной группы: {max_control}\")\n",
        "print(f\"Максимум тестовой группы: {max_test}\")\n"
      ],
      "metadata": {
        "colab": {
          "base_uri": "https://localhost:8080/"
        },
        "id": "Jh51QuRrD6KX",
        "outputId": "2c3faff5-f396-4a11-c577-f8aaa8ea0cf5"
      },
      "execution_count": null,
      "outputs": [
        {
          "output_type": "stream",
          "name": "stdout",
          "text": [
            "Максимум контрольной группы: 83.0\n",
            "Максимум тестовой группы: 75.0\n"
          ]
        }
      ]
    },
    {
      "cell_type": "markdown",
      "source": [
        "##Количество наблюдений в разных группах"
      ],
      "metadata": {
        "id": "6kN67WvJEcTv"
      }
    },
    {
      "cell_type": "code",
      "source": [
        "count_control = len(control_group)\n",
        "count_test = len(test_group)\n",
        "count_diff = abs(count_control - count_test)\n",
        "\n",
        "print(f'Количество наблюдений в контрольной группе: {count_control}')\n",
        "print(f'Количество наблюдений в тестовой группе: {count_test}')\n",
        "print(f'Разница в количестве наблюдений между группами: {count_diff}')"
      ],
      "metadata": {
        "colab": {
          "base_uri": "https://localhost:8080/"
        },
        "id": "PNlPxL2bEijL",
        "outputId": "e2179040-3f63-46e1-d047-98251f9d3c52"
      },
      "execution_count": null,
      "outputs": [
        {
          "output_type": "stream",
          "name": "stdout",
          "text": [
            "Количество наблюдений в контрольной группе: 10092\n",
            "Количество наблюдений в тестовой группе: 10104\n",
            "Разница в количестве наблюдений между группами: 12\n"
          ]
        }
      ]
    },
    {
      "cell_type": "code",
      "source": [
        "print(scipy.stats.shapiro(control_group['delivery_time']))\n",
        "print(scipy.stats.shapiro(test_group['delivery_time']))\n",
        "print(scipy.stats.shapiro(df['delivery_time']))"
      ],
      "metadata": {
        "colab": {
          "base_uri": "https://localhost:8080/"
        },
        "id": "NNIpi7KiFvmS",
        "outputId": "af1b6872-1d45-4d25-c150-d7fae2e1933c"
      },
      "execution_count": null,
      "outputs": [
        {
          "output_type": "stream",
          "name": "stdout",
          "text": [
            "ShapiroResult(statistic=0.9987088244953138, pvalue=2.8099019608930565e-07)\n",
            "ShapiroResult(statistic=0.998619400911751, pvalue=1.0739047798223119e-07)\n",
            "ShapiroResult(statistic=0.9988833255912524, pvalue=1.5832150841014556e-10)\n"
          ]
        },
        {
          "output_type": "stream",
          "name": "stderr",
          "text": [
            "/usr/local/lib/python3.10/dist-packages/scipy/stats/_axis_nan_policy.py:531: UserWarning: scipy.stats.shapiro: For N > 5000, computed p-value may not be accurate. Current N is 10092.\n",
            "  res = hypotest_fun_out(*samples, **kwds)\n",
            "/usr/local/lib/python3.10/dist-packages/scipy/stats/_axis_nan_policy.py:531: UserWarning: scipy.stats.shapiro: For N > 5000, computed p-value may not be accurate. Current N is 10104.\n",
            "  res = hypotest_fun_out(*samples, **kwds)\n",
            "/usr/local/lib/python3.10/dist-packages/scipy/stats/_axis_nan_policy.py:531: UserWarning: scipy.stats.shapiro: For N > 5000, computed p-value may not be accurate. Current N is 20196.\n",
            "  res = hypotest_fun_out(*samples, **kwds)\n"
          ]
        }
      ]
    },
    {
      "cell_type": "markdown",
      "source": [
        "##Проверяем выборки на нормальность распределения с помощью теста Агостино-Пирсона"
      ],
      "metadata": {
        "id": "FmHobCckGWJr"
      }
    },
    {
      "cell_type": "markdown",
      "source": [
        "H0: данные в выборке распределены нормально  \n",
        "Ha: данные в выборке не распределены нормально"
      ],
      "metadata": {
        "id": "CgTDlBxhLomF"
      }
    },
    {
      "cell_type": "code",
      "source": [
        "print(scipy.stats.normaltest(control_group['delivery_time'].dropna()))\n",
        "print(scipy.stats.normaltest(test_group['delivery_time'].dropna()))"
      ],
      "metadata": {
        "colab": {
          "base_uri": "https://localhost:8080/"
        },
        "id": "qle4f4hlFu2Y",
        "outputId": "3d6e059c-76d7-4c71-d362-fd1310152209"
      },
      "execution_count": null,
      "outputs": [
        {
          "output_type": "stream",
          "name": "stdout",
          "text": [
            "NormaltestResult(statistic=0.25349755437872584, pvalue=0.8809549607809654)\n",
            "NormaltestResult(statistic=7.024157092641915, pvalue=0.02983483685333173)\n"
          ]
        }
      ]
    },
    {
      "cell_type": "markdown",
      "source": [
        "На уровне значимости 0.05 данные по времени в контрольной группе распределены нормально (p value значительно больше уровня значимости, из чего следует, что мы не можем отвергнуть нулевую гипотезу), а данные в тестовой группе распределены не нормально (p value меньше уровня значимости, из чего следует, что мы можем отвергнуть нулевую гипотезу в пользу альтернативной)"
      ],
      "metadata": {
        "id": "26pFl8pOLNon"
      }
    },
    {
      "cell_type": "markdown",
      "source": [
        "##Считаем стандартные отклонения для групп"
      ],
      "metadata": {
        "id": "EnaQKWn7MWbl"
      }
    },
    {
      "cell_type": "code",
      "source": [
        "control_std = round(control_group['delivery_time'].std(), 2)\n",
        "test_std = round(test_group['delivery_time'].std(), 2)\n",
        "\n",
        "print(f'Стандартное отклонение для контрольной группы: {control_std}')\n",
        "print(f'Стандартное отклонение для тестовой группы: {test_std}')"
      ],
      "metadata": {
        "colab": {
          "base_uri": "https://localhost:8080/"
        },
        "id": "DOtrPMwvMbXC",
        "outputId": "53fc1d35-7cfc-4427-9afc-23c41274103e"
      },
      "execution_count": null,
      "outputs": [
        {
          "output_type": "stream",
          "name": "stdout",
          "text": [
            "Стандартное отклонение для контрольной группы: 9.99\n",
            "Стандартное отклонение для тестовой группы: 9.88\n"
          ]
        }
      ]
    },
    {
      "cell_type": "markdown",
      "source": [
        "##Рассчитываем статистику критерия"
      ],
      "metadata": {
        "id": "4HcTw0M5O5RM"
      }
    },
    {
      "cell_type": "markdown",
      "source": [
        "Нулевая гипотеза (H0): Разницы между средним временем доставки в тестовой и контрольной группе нет  \n",
        "Альтернативная гипотеза (H1): Разница между средним временем доставки в тестовой и контрольной группе есть  \n",
        "Уровень значимости выбираем равным 0.05"
      ],
      "metadata": {
        "id": "BGdndAnGO88F"
      }
    },
    {
      "cell_type": "code",
      "source": [
        "scipy.stats.ttest_ind(control_group['delivery_time'], test_group['delivery_time'])"
      ],
      "metadata": {
        "colab": {
          "base_uri": "https://localhost:8080/"
        },
        "id": "_NfSdJjZNE0G",
        "outputId": "7afbfbb0-f24e-46c4-ef8a-5760791749c4"
      },
      "execution_count": null,
      "outputs": [
        {
          "output_type": "execute_result",
          "data": {
            "text/plain": [
              "TtestResult(statistic=43.03582663183714, pvalue=0.0, df=20194.0)"
            ]
          },
          "metadata": {},
          "execution_count": 109
        }
      ]
    },
    {
      "cell_type": "markdown",
      "source": [
        "##Считаем процент измнения среднего времени по группам"
      ],
      "metadata": {
        "id": "n1dZ3xCMPE9Z"
      }
    },
    {
      "cell_type": "code",
      "source": [
        "#Считаем средние для групп\n",
        "control_mean = control_group['delivery_time'].mean()\n",
        "test_mean = test_group['delivery_time'].mean()\n",
        "\n",
        "#Вычисляем разницу в процентах\n",
        "diff_percents = round((test_mean - control_mean) * 100 / control_mean, 2)\n",
        "print(f'На {diff_percents}%')"
      ],
      "metadata": {
        "colab": {
          "base_uri": "https://localhost:8080/"
        },
        "id": "deYrgJ8_OhKM",
        "outputId": "f95b5b2f-1953-4a87-a66b-809819ec13a2"
      },
      "execution_count": null,
      "outputs": [
        {
          "output_type": "stream",
          "name": "stdout",
          "text": [
            "На -13.35%\n"
          ]
        }
      ]
    },
    {
      "cell_type": "markdown",
      "source": [
        "##Выводы"
      ],
      "metadata": {
        "id": "hmlzfWMdRjTP"
      }
    },
    {
      "cell_type": "markdown",
      "source": [
        "Научный: на уровне значимости 0.05 мы  отвергаем нулевую гипотезу (Нулевая гипотеза (H0): Разницы между средним временем доставки в тестовой и контрольной группе нет) в пользу альтернативной (Альтернативная гипотеза (H1): Разница между средним временем доставки в тестовой и контрольной группе есть). Стат значимая разнгость в среднем времени доставки на уровне значимости 0.05 есть\n",
        "\n",
        "Понятный человеку: новый алгоритм доставок \"по пути домой\" уменьшил среднее время доставок в тестовой группе по сравнению с контрольной"
      ],
      "metadata": {
        "id": "PUT2xYKoRl4h"
      }
    }
  ]
}