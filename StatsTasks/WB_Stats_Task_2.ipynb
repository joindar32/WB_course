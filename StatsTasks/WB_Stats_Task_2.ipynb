{
  "nbformat": 4,
  "nbformat_minor": 0,
  "metadata": {
    "colab": {
      "provenance": []
    },
    "kernelspec": {
      "name": "python3",
      "display_name": "Python 3"
    },
    "language_info": {
      "name": "python"
    }
  },
  "cells": [
    {
      "cell_type": "code",
      "execution_count": 249,
      "metadata": {
        "id": "sGQr2WLSdu5Z"
      },
      "outputs": [],
      "source": [
        "import numpy as np\n",
        "import pandas as pd\n",
        "from scipy import stats"
      ]
    },
    {
      "cell_type": "code",
      "source": [
        "sample = np.array([98, 104, 97, 97, 101, 100, 99, 101, 99, 98])\n",
        "mu0 = 100\n",
        "np.mean(sample)"
      ],
      "metadata": {
        "colab": {
          "base_uri": "https://localhost:8080/"
        },
        "id": "JRONZ-Fidy0W",
        "outputId": "e070d0ba-eb47-4ff4-87de-40fdbe7a9b4f"
      },
      "execution_count": 250,
      "outputs": [
        {
          "output_type": "execute_result",
          "data": {
            "text/plain": [
              "99.4"
            ]
          },
          "metadata": {},
          "execution_count": 250
        }
      ]
    },
    {
      "cell_type": "code",
      "source": [
        "df = len(sample) - 1\n",
        "student = stats.t(df) # закон распределения\n",
        "T = ((sample.mean() - mu0)* df ** 0.5) / sample.std()\n",
        "P = student.cdf(T)\n",
        "print(f\"Statistic: {T}, p-value: {P}\")"
      ],
      "metadata": {
        "colab": {
          "base_uri": "https://localhost:8080/"
        },
        "id": "cDCew4YgeB3l",
        "outputId": "aa9cfa29-b2f5-4ffd-aa37-f181411fddf9"
      },
      "execution_count": 251,
      "outputs": [
        {
          "output_type": "stream",
          "name": "stdout",
          "text": [
            "Statistic: -0.8741572761215295, p-value: 0.2023773358698457\n"
          ]
        }
      ]
    },
    {
      "cell_type": "code",
      "source": [
        "stats.ttest_1samp(sample, mu0, alternative='less')"
      ],
      "metadata": {
        "colab": {
          "base_uri": "https://localhost:8080/"
        },
        "id": "2hUyMFaTh1NV",
        "outputId": "479e2287-c4f8-4cd3-92b8-f1b7ea1e64ba"
      },
      "execution_count": 252,
      "outputs": [
        {
          "output_type": "execute_result",
          "data": {
            "text/plain": [
              "TtestResult(statistic=-0.8741572761215296, pvalue=0.20237733586984563, df=9)"
            ]
          },
          "metadata": {},
          "execution_count": 252
        }
      ]
    },
    {
      "cell_type": "markdown",
      "source": [
        "##Задача 1"
      ],
      "metadata": {
        "id": "maAzCw_B4QUo"
      }
    },
    {
      "cell_type": "markdown",
      "source": [
        "Из партии батареек с номинальным напряжением 12 В наугад выбрано семь штук. Согласно показаниям высокоточного вольтметра, фактически выдаваемое ими напряжение составило: 12,9; 11,6; 13,5; 13,9; 12,1; 11,9; 13,0 В соответственно. Можно ли считать, что среднее напряжение действительно равно 12 В?"
      ],
      "metadata": {
        "id": "sH5ATsf74BSl"
      }
    },
    {
      "cell_type": "markdown",
      "source": [
        "H0: среднее напряжение батареек равно 12В μ = μ_0  \n",
        "HA: среднее напряжение батареек не равно 12В μ != μ_0\n",
        "\n"
      ],
      "metadata": {
        "id": "Q0MEtJtV396n"
      }
    },
    {
      "cell_type": "markdown",
      "source": [
        "Допустим, что выборочное среднее напряжений из нашей выборки имеет нормальное распределение, тогда: проверяем с помощью одновыборочного критерия Стьюдента, крит. область у нас с двух сторон (т.к. проверяем равно ли среднее напряжение 12в или нет, предположение не о том, больше оно или меньше заявленного, а просто равно или не равно)\n",
        "Уровень значимости берем равным 0.05"
      ],
      "metadata": {
        "id": "n98FopH74Xfd"
      }
    },
    {
      "cell_type": "code",
      "source": [
        "sample = np.array([12.9, 11.6, 13.5, 13.9, 12.1, 11.9, 13.0])\n",
        "mu0 = 12\n",
        "np.mean(sample)"
      ],
      "metadata": {
        "colab": {
          "base_uri": "https://localhost:8080/"
        },
        "id": "ZV4uCRXCik5r",
        "outputId": "6a599de8-a9ec-46dd-ef6e-0b8cb16f7741"
      },
      "execution_count": 253,
      "outputs": [
        {
          "output_type": "execute_result",
          "data": {
            "text/plain": [
              "12.700000000000001"
            ]
          },
          "metadata": {},
          "execution_count": 253
        }
      ]
    },
    {
      "cell_type": "markdown",
      "source": [
        "Решение вручную"
      ],
      "metadata": {
        "id": "iubdvH-U6jfa"
      }
    },
    {
      "cell_type": "code",
      "source": [
        "df = len(sample) - 1 #число степеней свободы\n",
        "student = stats.t(df) # закон распределения\n",
        "T = ((sample.mean() - mu0)* df ** 0.5) / sample.std() #рассчитываем статистику критерия\n",
        "P = 2 * (1 - student.cdf(abs(T))) # умножаем на 2 т.к. крит область с двух сторон\n",
        "print(f\"Statistic: {T}, p-value: {P}\")"
      ],
      "metadata": {
        "colab": {
          "base_uri": "https://localhost:8080/"
        },
        "id": "smoxS0UUili1",
        "outputId": "16e4e218-dc71-4859-bb75-db9f36e36231"
      },
      "execution_count": 254,
      "outputs": [
        {
          "output_type": "stream",
          "name": "stdout",
          "text": [
            "Statistic: 2.1578017974978794, p-value: 0.07430190210562304\n"
          ]
        }
      ]
    },
    {
      "cell_type": "markdown",
      "source": [
        "Решение с помощью scipy"
      ],
      "metadata": {
        "id": "Y5KEGSKB6lH7"
      }
    },
    {
      "cell_type": "code",
      "source": [
        "stats.ttest_1samp(sample, mu0, alternative='two-sided')"
      ],
      "metadata": {
        "colab": {
          "base_uri": "https://localhost:8080/"
        },
        "id": "tDNqrPvWinDL",
        "outputId": "b4b4d0b4-629a-4fda-b658-75898a1101b4"
      },
      "execution_count": 255,
      "outputs": [
        {
          "output_type": "execute_result",
          "data": {
            "text/plain": [
              "TtestResult(statistic=2.1578017974978794, pvalue=0.07430190210562304, df=6)"
            ]
          },
          "metadata": {},
          "execution_count": 255
        }
      ]
    },
    {
      "cell_type": "markdown",
      "source": [
        "P value равно 0.07, что больше 0.05, на уровне значимости 0.05 мы не можем отвергнуть нулевую гипотезу"
      ],
      "metadata": {
        "id": "zQDnsfdL6zQZ"
      }
    },
    {
      "cell_type": "markdown",
      "source": [
        "##Задача 2"
      ],
      "metadata": {
        "id": "9hsJhdNp9M1v"
      }
    },
    {
      "cell_type": "markdown",
      "source": [
        "Есть два различных метода определения процентного содержания жира в мясе. Доля жира для 10 образцов мяса была определена каждым из двух методов. Позволяют ли полученные результаты сделать вывод о том, что один метод даёт в среднем более высокие показания, чем другой?"
      ],
      "metadata": {
        "id": "MDs7P18v9Qj8"
      }
    },
    {
      "cell_type": "markdown",
      "source": [
        "H0:Два метода дают одинаковые показания μ_x = μ_y  \n",
        "HA: Один из методов в среднем дает более высокие показателиμ_x != μ_y  "
      ],
      "metadata": {
        "id": "YkEHk1pEB2hF"
      }
    },
    {
      "cell_type": "markdown",
      "source": [
        "Допустим, что выборочное среднее напряжений из нашей выборки имеет нормальное распределение, тогда: проверяем с помощью парного критерия Стьюдента с крит областью с двух сторон (т.к. проверяем что любой из методов дает результаты в среднем больше, чем другой).  \n",
        "Уровень значимости выбираю равным 0.05"
      ],
      "metadata": {
        "id": "lPSnnh9IBsmL"
      }
    },
    {
      "cell_type": "code",
      "source": [
        "sample_1 = np.array([23.1, 23.2, 26.5, 26.6, 27.1, 48.3, 40.5, 25.0, 38.4, 23.5])\n",
        "sample_2 = np.array([22.7, 23.6, 27.1, 27.4, 27.4, 46.8, 40.4, 24.9, 38.1, 23.8])"
      ],
      "metadata": {
        "id": "G6SFgXHq9RO_"
      },
      "execution_count": 256,
      "outputs": []
    },
    {
      "cell_type": "code",
      "source": [
        "diff = sample_1 - sample_2 # разность по каждому наблюдению\n",
        "n = len(sample_1) - 1 # колво степеней свободы\n",
        "student = stats.t(n) #закон распределения\n",
        "#Вычисляем статистику критерия, используя ст. откл. и срденее для разности\n",
        "T = (diff.mean() * n ** 0.5)/ diff.std()\n",
        "P = 2 * (1 - student.cdf(abs(T))) #умножаем на 2 т.к. с двух сторон\n",
        "print(f'Statistic: {T}, p-value: {P}')"
      ],
      "metadata": {
        "colab": {
          "base_uri": "https://localhost:8080/"
        },
        "id": "Nj5eaWwqEd5E",
        "outputId": "be51030a-27fa-4b44-d548-3a611cfaf73c"
      },
      "execution_count": 257,
      "outputs": [
        {
          "output_type": "stream",
          "name": "stdout",
          "text": [
            "Statistic: 1.715488497867803e-15, p-value: 0.9999999999999987\n"
          ]
        }
      ]
    },
    {
      "cell_type": "code",
      "source": [
        "stats.ttest_1samp(diff, 0, alternative='two-sided') #mu_0 = 0"
      ],
      "metadata": {
        "colab": {
          "base_uri": "https://localhost:8080/"
        },
        "id": "w1vR8T-vFaBA",
        "outputId": "2524e3fd-f3b8-44f9-e5d7-d4d461dcf4c1"
      },
      "execution_count": 258,
      "outputs": [
        {
          "output_type": "execute_result",
          "data": {
            "text/plain": [
              "TtestResult(statistic=1.7154884978678027e-15, pvalue=0.9999999999999987, df=9)"
            ]
          },
          "metadata": {},
          "execution_count": 258
        }
      ]
    },
    {
      "cell_type": "markdown",
      "source": [
        "p value получается намного больше, чем уровень значимости, следовательно мы не можем отвергнуть нулевую гипотезу"
      ],
      "metadata": {
        "id": "JsYez7cCHYE1"
      }
    },
    {
      "cell_type": "markdown",
      "source": [
        "##Задача 3"
      ],
      "metadata": {
        "id": "tnqgWWINH6Ns"
      }
    },
    {
      "cell_type": "markdown",
      "source": [
        "Для проверки гипотезы о том, что жители городов имеют в среднем более высокое систолическое артериальное давление, чем жители сельской местности, было проведено обследование 10 горожан и 9 жителей села примерно одного возраста. Получены следующие данные об уровне давления для горожан: 132, 111, 119, 138, 200, 131, 138, 170, 159, 140; для селян: 115, 190, 127, 155, 148, 121, 116, 121, 197. Можно ли считать верной выдвинутую гипотезу на уровне значимости 0,05?"
      ],
      "metadata": {
        "id": "4AXH0VHzH-gq"
      }
    },
    {
      "cell_type": "markdown",
      "source": [
        "H0: жители городов и сел имеют одинаковое систолическое арт давление μ_x = μ_y  \n",
        "Ha: жители городов в среднем имеют большее систолическое арт давление μ_x > μ_y"
      ],
      "metadata": {
        "id": "24NCkemfsgfz"
      }
    },
    {
      "cell_type": "markdown",
      "source": [
        "Допустим, что среднее выборок распределены нормально, и т.к. мы не можем ничего сказать про равенство между дисперсиями двух выборок будем применять тест Уэлча (если бы мы знали о равенстве дисперсия можно было бы применить t test для двух независимых выборок). Будет у нас тест с правой крит областью, т.к. проверяем μ_x > μ_y  \n",
        "Уровень значимости берем равным 0.05"
      ],
      "metadata": {
        "id": "ojiFehSnwC2_"
      }
    },
    {
      "cell_type": "code",
      "source": [
        "sample1 = np.array([132, 111, 119, 138, 200, 131, 138, 170, 159, 140])\n",
        "sample2 = np.array([115, 190, 127, 155, 148, 121, 116, 121, 197])"
      ],
      "metadata": {
        "id": "EtOkkbfqH_jH"
      },
      "execution_count": 259,
      "outputs": []
    },
    {
      "cell_type": "code",
      "source": [
        "#Размеры выборок\n",
        "n1 = len(sample1)\n",
        "n2 = len(sample2)\n",
        "print(f'{df1}   {df2}')\n",
        "\n",
        "#Средние\n",
        "mean1 = sample1.mean()\n",
        "mean2 = sample2.mean()\n",
        "print(f'{mean1}   {mean2}')\n",
        "\n",
        "#Стандартные отклонения\n",
        "std1 = sample1.std(ddof=1)\n",
        "std2 = sample2.std(ddof=1)\n",
        "\n",
        "\n",
        "print(f'{std1}   {std2}')\n",
        "\n"
      ],
      "metadata": {
        "colab": {
          "base_uri": "https://localhost:8080/"
        },
        "id": "yaSAE-jvkpU1",
        "outputId": "cb26d79e-4315-4ce3-9241-b6166321f105"
      },
      "execution_count": 260,
      "outputs": [
        {
          "output_type": "stream",
          "name": "stdout",
          "text": [
            "15.601702532561607   15.601702532561607\n",
            "143.8   143.33333333333334\n",
            "26.144045423597152   31.682013824881775\n"
          ]
        }
      ]
    },
    {
      "cell_type": "code",
      "source": [
        "#Подсчет степеней свободы\n",
        "df = round(((std1 ** 2 / n1) + (std2 ** 2 / n2)) ** 2 /\n",
        "           (((std1 ** 2 / n1) ** 2 / (n1 - 1)) +\n",
        "            ((std2 ** 2 / n2) ** 2 / (n2 - 1))))\n",
        "\n",
        "#Распределение\n",
        "student = stats.t(df)"
      ],
      "metadata": {
        "id": "b8ZKuE9CoUQK"
      },
      "execution_count": 261,
      "outputs": []
    },
    {
      "cell_type": "code",
      "source": [
        "df"
      ],
      "metadata": {
        "colab": {
          "base_uri": "https://localhost:8080/"
        },
        "id": "cjz-ZUgHo40S",
        "outputId": "44f4d4ab-f808-45b3-abb5-b31b83043c3e"
      },
      "execution_count": 262,
      "outputs": [
        {
          "output_type": "execute_result",
          "data": {
            "text/plain": [
              "16"
            ]
          },
          "metadata": {},
          "execution_count": 262
        }
      ]
    },
    {
      "cell_type": "code",
      "source": [
        "T = (mean1 - mean2) / ((std1 ** 2 / n1 )+ (std2 ** 2 / n2)) ** 0.5\n",
        "P = 1 - student.cdf(abs(T))\n",
        "print(f'T = {T}, P= {P}')"
      ],
      "metadata": {
        "colab": {
          "base_uri": "https://localhost:8080/"
        },
        "id": "8TBcr_oMk1_Q",
        "outputId": "96eb6ed3-4d76-4831-a27c-100272b4eaae"
      },
      "execution_count": 263,
      "outputs": [
        {
          "output_type": "stream",
          "name": "stdout",
          "text": [
            "T = 0.03479498734072727, P= 0.4863368072501364\n"
          ]
        }
      ]
    },
    {
      "cell_type": "code",
      "source": [
        "stats.ttest_ind(sample1, sample2, equal_var=False, alternative='greater')\n"
      ],
      "metadata": {
        "colab": {
          "base_uri": "https://localhost:8080/"
        },
        "id": "QCpaQLpklpsW",
        "outputId": "c6e8a75b-b0f5-46e8-951d-a3114b1250ef"
      },
      "execution_count": 264,
      "outputs": [
        {
          "output_type": "execute_result",
          "data": {
            "text/plain": [
              "TtestResult(statistic=0.03479498734072727, pvalue=0.4863422498708747, df=15.601702532561607)"
            ]
          },
          "metadata": {},
          "execution_count": 264
        }
      ]
    },
    {
      "cell_type": "markdown",
      "source": [
        "Т.к. у нас p value получилось сильно больше, чем уровень значимости, то делаем вывод: на уровне значимости 0.05 мы не можем отвергнуть нулевую гипотезу"
      ],
      "metadata": {
        "id": "_26kaeKPxB9-"
      }
    },
    {
      "cell_type": "markdown",
      "source": [
        "##Задача 4"
      ],
      "metadata": {
        "id": "dJSa8VfrzJ9r"
      }
    },
    {
      "cell_type": "markdown",
      "source": [
        "Известно, что 52% новорождённых детей — мальчики, а 48% — девочки. В случайной выборке из 5 000 человек в возрасте от 30 до 60 лет мужчин оказалось 2 500. Можно ли на уровне значимости 0,05 считать, основываясь на этих данных, что смертность среди мужчин и женщин одинакова?\n"
      ],
      "metadata": {
        "id": "7oYmauQFzNsd"
      }
    },
    {
      "cell_type": "markdown",
      "source": [
        "Смертность среди мужчин и женщин одинакова в том случае, когда доля родишвихся мужчин будет равна доле мужчин в выборке от 30 до 60.  \n",
        "H0: доля родившихся мужчин  и доля мужчин в выборке одинаковы p = p_0  \n",
        "Ha: доля родившихся мужчин  и доля мужчин в выборке не одинаковы p != p_0  \n"
      ],
      "metadata": {
        "id": "ooTNn3zF2CI8"
      }
    },
    {
      "cell_type": "code",
      "source": [
        "#Вероятность рождения мужчины\n",
        "p_0 = 0.52\n",
        "\n",
        "#Общее число опытов\n",
        "n = 5000\n",
        "\n",
        "#Число родившихся мужчин / число \"успешных\" опытов\n",
        "m = 2500\n",
        "\n",
        "#Вычисляем статистику критерия и p value\n",
        "T = (m - n * p_0) / ((n * p_0 * (1 - p_0)) ** 0.5)\n",
        "p = 2 * (1 - stats.norm.cdf(abs(T)))\n",
        "\n",
        "print(f'T: {T}, p: {p}')"
      ],
      "metadata": {
        "colab": {
          "base_uri": "https://localhost:8080/"
        },
        "id": "Z4BRH3qP2OhO",
        "outputId": "dfb0b747-d87d-4b81-8627-5f3852437935"
      },
      "execution_count": 271,
      "outputs": [
        {
          "output_type": "stream",
          "name": "stdout",
          "text": [
            "T: -2.830692585361489, p: 0.004644733942292589\n"
          ]
        }
      ]
    },
    {
      "cell_type": "code",
      "source": [
        "result = stats.binomtest(m, n, p_0, alternative='two-sided')\n",
        "result"
      ],
      "metadata": {
        "colab": {
          "base_uri": "https://localhost:8080/"
        },
        "id": "cUMafGWH5xRH",
        "outputId": "f7476979-d74c-48e7-ac94-0e376fff97cc"
      },
      "execution_count": 266,
      "outputs": [
        {
          "output_type": "execute_result",
          "data": {
            "text/plain": [
              "BinomTestResult(k=2500, n=5000, alternative='two-sided', statistic=0.5, pvalue=0.0048495021595452836)"
            ]
          },
          "metadata": {},
          "execution_count": 266
        }
      ]
    },
    {
      "cell_type": "markdown",
      "source": [
        "P value получилось 0.004, на уровне значимости 0.05 мы можем отвергнуть нулевыую гипотезу в пользу альтернативной. Доля мужчин в выборке стат значимо отличается от доли рожденных мужчин"
      ],
      "metadata": {
        "id": "rsRvJC1a9An9"
      }
    },
    {
      "cell_type": "markdown",
      "source": [
        "##Задача 5"
      ],
      "metadata": {
        "id": "LgIGlgwI936E"
      }
    },
    {
      "cell_type": "markdown",
      "source": [
        "В первом эксперименте для сравнения двух средних X1=17, X2=16 применялся t-критерий Стьюдента, и эти различия оказались значимы (p = 0, 001).\n",
        "\n",
        "Во втором исследовании, также при помощи t - критерия, сравнивались два средних X1=17, X2=36, и эти различия не значимы при p = 0,8. В чем может быть причина таких результатов, при условии, что нулевая и альтернативная гипотезы в обоих случаях одинаковы?"
      ],
      "metadata": {
        "id": "wNe5f7xu963z"
      }
    },
    {
      "cell_type": "markdown",
      "source": [
        "Мои предположения:  \n",
        "1. Во втором случае выборочные средние выборок не распределены нормально (то есть нельзя было применять t test)  \n",
        "2. Во втором случае были маленькие выборки  \n",
        "3. Дисперсии во втором сулчае между выборками не равны (нужно применять тест уэлча)\n",
        "4. Сильные выбросы во втором случае (увеличиывается стандартная ошибка, в следствие чего уменьшается статистика критерия)"
      ],
      "metadata": {
        "id": "ggJFV4tV-nI0"
      }
    },
    {
      "cell_type": "code",
      "source": [],
      "metadata": {
        "id": "jt3RQCXi-omp"
      },
      "execution_count": null,
      "outputs": []
    }
  ]
}